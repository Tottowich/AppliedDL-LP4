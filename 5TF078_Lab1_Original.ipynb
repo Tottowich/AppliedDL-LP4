{
  "cells": [
    {
      "cell_type": "markdown",
      "metadata": {
        "id": "nAUA6cvb_CNY"
      },
      "source": [
        "# 5TF078 Deep Learning Course\n",
        "## Excercise 1 Convolutional Neural Networks on Fashion-MNIST\n",
        "Created by Tomas Nordström, Umeå University\n",
        "\n",
        "Revisions:\n",
        "* 2022-03-23 First revision based on earlier excercises /ToNo\n",
        "* 2022-03-30 Adjusted the Keras Tuner search to reduce compute times. /Tomas\n",
        "* 2022-04-05 Added padding='same' as an argument to Conv2D. /Tomas\n",
        "* 2022-05-09 Swaped optimizer to use 'adam' as default and 'sgd' as extra test. /Tomas\n",
        "* 2022-05-09 Fixed so that we can use the latest version (1.1.2) of keras tuner. /Tomas\n",
        "* 2022-11-07 Added hints to use incremental model definitions when we want to have varying number of layers with Keras tuner. /Tomas\n",
        "* 2022-11-09 Updated check for colab to NOT use env. var. COLAB_GPU as it has gone missing. /Tomas"
      ]
    },
    {
      "cell_type": "markdown",
      "metadata": {
        "id": "IAWshxTD0Sd8"
      },
      "source": [
        "## **Glöm inte ditt namn!**"
      ]
    },
    {
      "cell_type": "markdown",
      "metadata": {
        "id": "r-tp9iDDCpsz"
      },
      "source": [
        "# First we initilize our Python environment"
      ]
    },
    {
      "cell_type": "code",
      "execution_count": null,
      "metadata": {
        "colab": {
          "base_uri": "https://localhost:8080/"
        },
        "id": "F1pcr2Em_Lzo",
        "outputId": "ffa669f6-b5ca-4851-8810-48a8b79cb2c5",
        "vscode": {
          "languageId": "python"
        }
      },
      "outputs": [
        {
          "name": "stdout",
          "output_type": "stream",
          "text": [
            "TensorFlow version: 2.8.0\n",
            "Keras version: 2.8.0\n"
          ]
        }
      ],
      "source": [
        "# Import needed libraries\n",
        "import tensorflow as tf\n",
        "print('TensorFlow version:', tf.__version__)\n",
        "\n",
        "from tensorflow import keras\n",
        "# from tensorflow.keras import layers\n",
        "from keras.models import Sequential\n",
        "from keras.layers import Dense, Flatten, Conv2D, BatchNormalization, Dropout, \\\n",
        "                         MaxPooling2D, Input, Activation, Add\n",
        "from keras.utils  import to_categorical\n",
        "from keras.models import Model, Sequential\n",
        "print('Keras version:',tf.keras.__version__)\n",
        "# Helper libraries\n",
        "import numpy as np\n",
        "import sklearn\n",
        "from   sklearn.model_selection import train_test_split\n",
        "\n",
        "# Matlab plotting\n",
        "import matplotlib\n",
        "import matplotlib.pyplot as plt\n",
        "\n",
        "# Typing imports for type hints / readability\n",
        "from typing import Tuple, List, Dict, Any, Union\n",
        "init = True"
      ]
    },
    {
      "cell_type": "code",
      "execution_count": null,
      "metadata": {
        "colab": {
          "base_uri": "https://localhost:8080/"
        },
        "id": "Uf0ZWo9JyEhS",
        "outputId": "5e0ca4c6-4946-4c86-b948-e4d8d9f62eb7",
        "vscode": {
          "languageId": "python"
        }
      },
      "outputs": [
        {
          "name": "stdout",
          "output_type": "stream",
          "text": [
            "GPU 0: NVIDIA GeForce RTX 3090 (UUID: GPU-56d64c0c-e161-9720-5e6d-9848f27424d1)\r\n"
          ]
        },
        {
          "name": "stderr",
          "output_type": "stream",
          "text": [
            "2022-05-09 17:39:26.472589: I tensorflow/stream_executor/cuda/cuda_gpu_executor.cc:936] successful NUMA node read from SysFS had negative value (-1), but there must be at least one NUMA node, so returning NUMA node zero\n",
            "2022-05-09 17:39:26.492555: I tensorflow/stream_executor/cuda/cuda_gpu_executor.cc:936] successful NUMA node read from SysFS had negative value (-1), but there must be at least one NUMA node, so returning NUMA node zero\n",
            "2022-05-09 17:39:26.492656: I tensorflow/stream_executor/cuda/cuda_gpu_executor.cc:936] successful NUMA node read from SysFS had negative value (-1), but there must be at least one NUMA node, so returning NUMA node zero\n"
          ]
        }
      ],
      "source": [
        "# Test for GPU and determine what GPU we have\n",
        "import sys\n",
        "if not tf.config.list_physical_devices('GPU'):\n",
        "     print(\"No GPU was detected. CNNs can be very slow without a GPU.\")\n",
        "     IN_COLAB = 'google.colab' in sys.modules\n",
        "     if IN_COLAB:\n",
        "         print(\"Go to Runtime > Change runtime and select a GPU hardware accelerator.\")\n",
        "else:\n",
        "     !nvidia-smi -L"
      ]
    },
    {
      "cell_type": "markdown",
      "metadata": {
        "id": "AhWTXQfXBiN6"
      },
      "source": [
        "# Set up the needed data sets"
      ]
    },
    {
      "cell_type": "markdown",
      "metadata": {
        "id": "kmtboE3kolMi"
      },
      "source": [
        "## Get hold of a data-set\n",
        "In this exercise we will use Fashion MNIST dataset, which an alternative to MNIST (it is a little harder, but the image size is the same). This is available directly as a [Keras dataset](https://keras.io/datasets/). This is a dataset of 60,000 28x28 grayscale images of 10 fashion categories, along with a test set of 10,000 images. \n",
        "\n",
        "Note that we split our data into **three** data sets: training, validation, testing; each with its own purpose."
      ]
    },
    {
      "cell_type": "code",
      "execution_count": null,
      "metadata": {
        "id": "0ViGcOSI-_t6",
        "vscode": {
          "languageId": "python"
        }
      },
      "outputs": [],
      "source": [
        "# Get Fashion-MNIST training and test data from Keras database (https://keras.io/datasets/)\n",
        "(train_images0, train_labels0), (test_images, test_labels) = tf.keras.datasets.fashion_mnist.load_data()\n",
        "\n",
        "# Define labels\n",
        "class_names = ['T-shirt/top', 'Trouser', 'Pullover', 'Dress', 'Coat', \n",
        "               'Sandal', 'Shirt', 'Sneaker', 'Bag', 'Ankle boot']\n",
        "\n",
        "# Split the training set into a training and a validation set (20% is validation)\n",
        "train_images, val_images, train_labels, val_labels = train_test_split(train_images0, train_labels0, test_size=0.20)"
      ]
    },
    {
      "cell_type": "code",
      "execution_count": null,
      "metadata": {
        "colab": {
          "base_uri": "https://localhost:8080/"
        },
        "id": "GNZOs2YwraHQ",
        "outputId": "26499e66-ce57-4e0b-fe1e-e4efae43c0fe",
        "vscode": {
          "languageId": "python"
        }
      },
      "outputs": [
        {
          "name": "stdout",
          "output_type": "stream",
          "text": [
            "No training images: 48000  with image size: 28 x 28\n",
            "No test images: 10000\n",
            "No val images: 12000\n",
            "Training labels: [0 1 2 3 4 5 6 7 8 9] ; That is, 10 classes.\n"
          ]
        }
      ],
      "source": [
        "# Print som basic information of data set sizes and data sizes\n",
        "train_no,x,y = train_images.shape\n",
        "print('No training images:',train_no, ' with image size:',x,'x',y)\n",
        "label_no = len(train_labels)\n",
        "if (label_no != train_no) : \n",
        "  print('# labels do not match # training images')\n",
        "\n",
        "test_no,x,y = test_images.shape\n",
        "label_no = len(test_labels)\n",
        "print('No test images:',test_no)\n",
        "if (label_no != test_no) : \n",
        "  print('# labels do not match # test images')\n",
        "\n",
        "val_no,x,y = val_images.shape\n",
        "label_no = len(val_labels)\n",
        "print('No val images:',val_no)\n",
        "if (label_no != val_no) : \n",
        "  print('# labels do not match # val images')\n",
        "\n",
        "classes = np.unique(train_labels)\n",
        "num_classes = len(classes)\n",
        "print('Training labels:', np.unique(train_labels), \"; That is,\", num_classes,\"classes.\" )\n"
      ]
    },
    {
      "cell_type": "markdown",
      "metadata": {
        "id": "Cg4WF2gMzfpm"
      },
      "source": [
        "Note that the training labels are an integer between 0 and 9, which is not very good as outputs (or inputs) for DL models. A better approach would be to use a one-hot encoding. We can convert our label vectors to one-hot encoded matrices by using [to_categorical](https://www.tensorflow.org/api_docs/python/tf/keras/utils/to_categorical) `tf.keras.utils.to_categorical(train_labels)`.\n",
        "\n",
        "But we can achieve the same thing by using [SparseCategoricalCrossentropy](https://keras.io/api/losses/probabilistic_losses/#sparsecategoricalcrossentropy-class) as a loss function instead of the [CategoricalCrossentropy](https://keras.io/api/losses/probabilistic_losses/#categoricalcrossentropy-class). Also note that in both cases we need our model to have as many output nodes as we have classes! "
      ]
    },
    {
      "cell_type": "markdown",
      "metadata": {
        "id": "gYVB7wI8sFgh"
      },
      "source": [
        "## Adjust the data to be better work as ML input\n",
        "\n",
        "Many models working with images are assuming the data to be represented as a 4-D tensor with the shape BHWC [batch_size, height, width, channels] (some ML frameworks prefer to use BCHW instead, so be careful when starting to work on new datasets or ML-frameworks).\n",
        "\n",
        "We also want to normalize data to be \"small\" and \"close\" to zero, e.g. 0 to 1 or –1 to 1. In this example we normalize to values between –0.5 and 0.5."
      ]
    },
    {
      "cell_type": "code",
      "execution_count": null,
      "metadata": {
        "id": "XL5_y51yqOkR",
        "vscode": {
          "languageId": "python"
        }
      },
      "outputs": [],
      "source": [
        "# Add an \"empty\" color dimension for our data sets\n",
        "def pre_process():\n",
        "    train_images = np.expand_dims(train_images, -1)\n",
        "    val_images = np.expand_dims(val_images, -1)\n",
        "    test_images = np.expand_dims(test_images, -1)\n",
        "\n",
        "    # Normalize the images.\n",
        "    train_images = (train_images / 255) - 0.5\n",
        "    test_images = (test_images / 255) - 0.5\n",
        "    val_images = (val_images / 255) - 0.5\n",
        "if init:\n",
        "    pre_process()\n",
        "    init = not init"
      ]
    },
    {
      "cell_type": "markdown",
      "metadata": {
        "id": "P9F4zkQQDnAz"
      },
      "source": [
        "## Explore the data\n",
        "It is always advised to take a look at the data, to see if we need to massage it further."
      ]
    },
    {
      "cell_type": "code",
      "execution_count": null,
      "metadata": {
        "colab": {
          "base_uri": "https://localhost:8080/",
          "height": 550
        },
        "id": "dMYGkeRxJ__U",
        "outputId": "91b6f04a-37e4-4830-ac3b-d3564ebc76d0",
        "vscode": {
          "languageId": "python"
        }
      },
      "outputs": [
        {
          "name": "stdout",
          "output_type": "stream",
          "text": [
            "Label: Pullover\n"
          ]
        },
        {
          "data": {
            "image/png": "[encoded data removed]",
            "text/plain": [
              "<Figure size 432x288 with 1 Axes>"
            ]
          },
          "metadata": {
            "needs_background": "light"
          },
          "output_type": "display_data"
        },
        {
          "name": "stdout",
          "output_type": "stream",
          "text": [
            "Label: Sandal\n"
          ]
        },
        {
          "data": {
            "image/png": "[encoded data removed]",
            "text/plain": [
              "<Figure size 432x288 with 1 Axes>"
            ]
          },
          "metadata": {
            "needs_background": "light"
          },
          "output_type": "display_data"
        }
      ],
      "source": [
        "# As these are images (28x28) it can be interesting to plot some as images\n",
        "\n",
        "image_index = [42, 789] # \"Random\" images to print\n",
        "str2data = {\n",
        "  \"train\": (train_images, train_labels),\n",
        "  \"val\": (val_images, val_labels),\n",
        "  \"test\": (test_images, test_labels)\n",
        "}\n",
        "def plot_sample(index:List[int], data:str=\"train\"):\n",
        "  images, labels = str2data[data]\n",
        "  for index in image_index:\n",
        "    print( 'Label:', class_names[train_labels[index]])\n",
        "    plt.figure()\n",
        "    plt.imshow(np.squeeze(train_images[index], axis=-1))\n",
        "    plt.gray()\n",
        "    plt.grid(False)\n",
        "    plt.show(block=False)\n",
        "plot_sample(image_index)"
      ]
    },
    {
      "cell_type": "markdown",
      "metadata": {
        "id": "H7CFf7AO4ysm"
      },
      "source": [
        "# Define a convolutional network model"
      ]
    },
    {
      "cell_type": "markdown",
      "metadata": {
        "id": "948BTPYO5BI_"
      },
      "source": [
        "## Define the model using Keras\n",
        "\n",
        "Note that this is a *very* small modell just to have a strating point. A good modell is expected to have 5-50 times as many parameters!"
      ]
    },
    {
      "cell_type": "code",
      "execution_count": null,
      "metadata": {
        "colab": {
          "base_uri": "https://localhost:8080/"
        },
        "id": "NHl97r_t4_2t",
        "outputId": "de4c3297-8777-42c0-b8cf-b53d15227fef",
        "vscode": {
          "languageId": "python"
        }
      },
      "outputs": [
        {
          "name": "stdout",
          "output_type": "stream",
          "text": [
            "Input shape (28, 28, 1)\n",
            "Model: \"sequential\"\n",
            "_________________________________________________________________\n",
            " Layer (type)                Output Shape              Param #   \n",
            "=================================================================\n",
            " conv2d (Conv2D)             (None, 28, 28, 16)        160       \n",
            "                                                                 \n",
            " flatten (Flatten)           (None, 12544)             0         \n",
            "                                                                 \n",
            " dense (Dense)               (None, 16)                200720    \n",
            "                                                                 \n",
            " dense_1 (Dense)             (None, 10)                170       \n",
            "                                                                 \n",
            "=================================================================\n",
            "Total params: 201,050\n",
            "Trainable params: 201,050\n",
            "Non-trainable params: 0\n",
            "_________________________________________________________________\n"
          ]
        },
        {
          "name": "stderr",
          "output_type": "stream",
          "text": [
            "2022-05-09 17:39:27.112908: I tensorflow/core/platform/cpu_feature_guard.cc:151] This TensorFlow binary is optimized with oneAPI Deep Neural Network Library (oneDNN) to use the following CPU instructions in performance-critical operations:  AVX2 FMA\n",
            "To enable them in other operations, rebuild TensorFlow with the appropriate compiler flags.\n",
            "2022-05-09 17:39:27.114264: I tensorflow/stream_executor/cuda/cuda_gpu_executor.cc:936] successful NUMA node read from SysFS had negative value (-1), but there must be at least one NUMA node, so returning NUMA node zero\n",
            "2022-05-09 17:39:27.114455: I tensorflow/stream_executor/cuda/cuda_gpu_executor.cc:936] successful NUMA node read from SysFS had negative value (-1), but there must be at least one NUMA node, so returning NUMA node zero\n",
            "2022-05-09 17:39:27.114551: I tensorflow/stream_executor/cuda/cuda_gpu_executor.cc:936] successful NUMA node read from SysFS had negative value (-1), but there must be at least one NUMA node, so returning NUMA node zero\n",
            "2022-05-09 17:39:27.408608: I tensorflow/stream_executor/cuda/cuda_gpu_executor.cc:936] successful NUMA node read from SysFS had negative value (-1), but there must be at least one NUMA node, so returning NUMA node zero\n",
            "2022-05-09 17:39:27.408751: I tensorflow/stream_executor/cuda/cuda_gpu_executor.cc:936] successful NUMA node read from SysFS had negative value (-1), but there must be at least one NUMA node, so returning NUMA node zero\n",
            "2022-05-09 17:39:27.408841: I tensorflow/stream_executor/cuda/cuda_gpu_executor.cc:936] successful NUMA node read from SysFS had negative value (-1), but there must be at least one NUMA node, so returning NUMA node zero\n",
            "2022-05-09 17:39:27.408896: W tensorflow/core/common_runtime/gpu/gpu_bfc_allocator.cc:39] Overriding allow_growth setting because the TF_FORCE_GPU_ALLOW_GROWTH environment variable is set. Original config value was 0.\n",
            "2022-05-09 17:39:27.408922: I tensorflow/core/common_runtime/gpu/gpu_device.cc:1525] Created device /job:localhost/replica:0/task:0/device:GPU:0 with 22186 MB memory:  -> device: 0, name: NVIDIA GeForce RTX 3090, pci bus id: 0000:01:00.0, compute capability: 8.6\n"
          ]
        }
      ],
      "source": [
        "# We need to give the input shape (i.e. our image shape) to our model\n",
        "input_shape = test_images[0].shape\n",
        "print(\"Input shape\", input_shape)\n",
        "\n",
        "# The Keras model will be the simplest Keras model for NN networks. \n",
        "# It is a single stack of layers connected sequentially.\n",
        "def simple_model()->Sequential:\n",
        "    model = Sequential([\n",
        "\n",
        "    # Add a convolution layer\n",
        "    Conv2D(filters=16, kernel_size=(3, 3), padding='same', activation='relu', input_shape=input_shape),\n",
        "\n",
        "    # Flatten the input. This prepares the vector for fully connected layers.\n",
        "    Flatten(),\n",
        "\n",
        "    # Add a hidden Dense layer\n",
        "    Dense(units=16, activation='relu'),\n",
        "\n",
        "    # Add a an output layer. The output space is the number of classes\n",
        "    #    Softmax makes the output as probablity vector of the different classes\n",
        "    Dense(units=num_classes, activation='softmax')\n",
        "\n",
        "    ])\n",
        "    print(\"Simple Model\")\n",
        "    print(model.summary())\n",
        "    return model\n",
        "def resnet_model()->Model:\n",
        "    inp = Input(shape=input_shape)\n",
        "    ## TODO: Add your ResNet model here\n",
        "    return None\n",
        "\n",
        "model = simple_model()"
      ]
    },
    {
      "cell_type": "markdown",
      "metadata": {
        "id": "7opTLcKc73By"
      },
      "source": [
        "# Set up the model and optimizer for training\n",
        "To set up the optimization of this model we need to compile it, and set what [optimizer](https://keras.io/api/optimizers/), what [loss](https://keras.io/api/losses/), and what [metrics](https://keras.io/api/metrics/) to use. Where, metric is similar to a loss but not used during training but can be used to measure training progress.\n",
        "\n",
        "The model (its parameters) is also initialized to some random values during this phase."
      ]
    },
    {
      "cell_type": "code",
      "execution_count": null,
      "metadata": {
        "id": "luIM0Q8I9I9_",
        "vscode": {
          "languageId": "python"
        }
      },
      "outputs": [],
      "source": [
        "# Compile the model, as a preparation for training\n",
        "def compile_model(model:Model,loss:Union[keras.losses.Loss, str],metrics:List)->Model:\n",
        "  model.compile(\n",
        "    optimizer='adam',\n",
        "    loss=loss,\n",
        "    metrics=metrics\n",
        "  )\n",
        "  return model\n",
        "model = compile_model(model, 'categorical_crossentropy', ['categorical_accuracy'])"
      ]
    },
    {
      "cell_type": "markdown",
      "metadata": {
        "id": "q56fJLY89amp"
      },
      "source": [
        "# Run the training"
      ]
    },
    {
      "cell_type": "code",
      "execution_count": null,
      "metadata": {
        "colab": {
          "base_uri": "https://localhost:8080/"
        },
        "id": "fnJObQvJ-Gv7",
        "outputId": "a96e174c-94cb-4d84-a84b-c66a27253ae9",
        "vscode": {
          "languageId": "python"
        }
      },
      "outputs": [
        {
          "name": "stdout",
          "output_type": "stream",
          "text": [
            "Epoch 1/15\n"
          ]
        },
        {
          "name": "stderr",
          "output_type": "stream",
          "text": [
            "2022-05-09 17:39:28.412941: I tensorflow/stream_executor/cuda/cuda_dnn.cc:368] Loaded cuDNN version 8400\n"
          ]
        },
        {
          "name": "stdout",
          "output_type": "stream",
          "text": [
            "  45/1500 [..............................] - ETA: 1s - loss: 1.4234 - categorical_accuracy: 0.5236   "
          ]
        },
        {
          "name": "stderr",
          "output_type": "stream",
          "text": [
            "2022-05-09 17:39:29.156084: I tensorflow/stream_executor/cuda/cuda_blas.cc:1786] TensorFloat-32 will be used for the matrix multiplication. This will only be logged once.\n"
          ]
        },
        {
          "name": "stdout",
          "output_type": "stream",
          "text": [
            "1500/1500 [==============================] - 4s 1ms/step - loss: 0.4799 - categorical_accuracy: 0.8330 - val_loss: 0.3719 - val_categorical_accuracy: 0.8681\n",
            "Epoch 2/15\n",
            "1500/1500 [==============================] - 2s 1ms/step - loss: 0.3185 - categorical_accuracy: 0.8860 - val_loss: 0.3235 - val_categorical_accuracy: 0.8866\n",
            "Epoch 3/15\n",
            "1500/1500 [==============================] - 2s 1ms/step - loss: 0.2769 - categorical_accuracy: 0.9003 - val_loss: 0.3047 - val_categorical_accuracy: 0.8942\n",
            "Epoch 4/15\n",
            "1500/1500 [==============================] - 2s 1ms/step - loss: 0.2500 - categorical_accuracy: 0.9096 - val_loss: 0.3316 - val_categorical_accuracy: 0.8826\n",
            "Epoch 5/15\n",
            "1500/1500 [==============================] - 2s 1ms/step - loss: 0.2286 - categorical_accuracy: 0.9176 - val_loss: 0.3110 - val_categorical_accuracy: 0.8889\n",
            "Epoch 6/15\n",
            "1500/1500 [==============================] - 2s 1ms/step - loss: 0.2094 - categorical_accuracy: 0.9242 - val_loss: 0.2945 - val_categorical_accuracy: 0.8977\n",
            "Epoch 7/15\n",
            "1500/1500 [==============================] - 2s 1ms/step - loss: 0.1931 - categorical_accuracy: 0.9303 - val_loss: 0.3069 - val_categorical_accuracy: 0.8974\n",
            "Epoch 8/15\n",
            "1500/1500 [==============================] - 2s 1ms/step - loss: 0.1745 - categorical_accuracy: 0.9375 - val_loss: 0.3071 - val_categorical_accuracy: 0.8997\n",
            "Epoch 9/15\n",
            "1500/1500 [==============================] - 2s 1ms/step - loss: 0.1632 - categorical_accuracy: 0.9408 - val_loss: 0.2980 - val_categorical_accuracy: 0.8989\n",
            "Epoch 10/15\n",
            "1500/1500 [==============================] - 2s 1ms/step - loss: 0.1480 - categorical_accuracy: 0.9470 - val_loss: 0.3154 - val_categorical_accuracy: 0.9007\n",
            "Epoch 11/15\n",
            "1500/1500 [==============================] - 2s 1ms/step - loss: 0.1379 - categorical_accuracy: 0.9506 - val_loss: 0.3265 - val_categorical_accuracy: 0.9017\n",
            "Epoch 12/15\n",
            "1500/1500 [==============================] - 2s 1ms/step - loss: 0.1268 - categorical_accuracy: 0.9548 - val_loss: 0.3198 - val_categorical_accuracy: 0.9035\n",
            "Epoch 13/15\n",
            "1500/1500 [==============================] - 2s 1ms/step - loss: 0.1183 - categorical_accuracy: 0.9577 - val_loss: 0.3308 - val_categorical_accuracy: 0.9016\n",
            "Epoch 14/15\n",
            "1500/1500 [==============================] - 2s 1ms/step - loss: 0.1058 - categorical_accuracy: 0.9621 - val_loss: 0.3486 - val_categorical_accuracy: 0.9003\n",
            "Epoch 15/15\n",
            "1500/1500 [==============================] - 2s 1ms/step - loss: 0.0978 - categorical_accuracy: 0.9656 - val_loss: 0.3786 - val_categorical_accuracy: 0.8963\n"
          ]
        }
      ],
      "source": [
        "epochs = 15      ## Number of epoch to run\n",
        "batch_size = 32  ## Mini batch size\n",
        "def train_model(model:Model, epochs:int, batch_size:int)->keras.callbacks.History:\n",
        "  # Train the model.\n",
        "  history = model.fit(\n",
        "    train_images, to_categorical(train_labels),\n",
        "    epochs=epochs,\n",
        "    batch_size=batch_size,\n",
        "    verbose = 1,\n",
        "    validation_data=(val_images, to_categorical(val_labels))\n",
        "  )\n",
        "  return history\n",
        "history = train_model(simple_model(), epochs, batch_size)"
      ]
    },
    {
      "cell_type": "markdown",
      "metadata": {
        "id": "9weV4eGc9tp4"
      },
      "source": [
        "# Explore the training progress\n",
        "Show the training progress, by plotting the training and validation accuracy and loss"
      ]
    },
    {
      "cell_type": "code",
      "execution_count": null,
      "metadata": {
        "colab": {
          "base_uri": "https://localhost:8080/",
          "height": 573
        },
        "id": "jSw5Dp3f-XCw",
        "outputId": "f7961e5a-c1e7-4e9b-c545-3c258f7550b4",
        "vscode": {
          "languageId": "python"
        }
      },
      "outputs": [
        {
          "data": {
            "image/png": "[encoded data removed]",
            "text/plain": [
              "<Figure size 432x288 with 1 Axes>"
            ]
          },
          "metadata": {
            "needs_background": "light"
          },
          "output_type": "display_data"
        },
        {
          "data": {
            "image/png": "[encoded data removed]",
            "text/plain": [
              "<Figure size 432x288 with 1 Axes>"
            ]
          },
          "metadata": {
            "needs_background": "light"
          },
          "output_type": "display_data"
        }
      ],
      "source": [
        "def plot_history(history:keras.callbacks.History, epochs:int):\n",
        "    epochrange = range(1, epochs + 1)\n",
        "    train_acc = history.history['categorical_accuracy']\n",
        "    val_acc = history.history['val_categorical_accuracy']\n",
        "\n",
        "    train_loss = history.history['loss']\n",
        "    val_loss = history.history['val_loss']\n",
        "\n",
        "    plt.plot(epochrange, train_acc, 'bo', label='Training acc')\n",
        "    plt.plot(epochrange, val_acc, 'b', label='Validation acc')\n",
        "    plt.title('Training and validation accuracy (modell 1)')\n",
        "    plt.xlabel('Epochs')\n",
        "    plt.ylabel('Accuracy')\n",
        "    plt.legend()\n",
        "    plt.show()\n",
        "\n",
        "    plt.plot(epochrange, train_loss, 'bo', label='Training loss')\n",
        "    plt.plot(epochrange, val_loss, 'b', label='Validation loss')\n",
        "    plt.title('Training and validation loss (modell 1)')\n",
        "    plt.xlabel('Epochs')\n",
        "    plt.ylabel('Loss')\n",
        "    plt.legend()\n",
        "    plt.show()\n",
        "plot_history(history, epochs)"
      ]
    },
    {
      "cell_type": "markdown",
      "metadata": {
        "id": "Bn2kPMlsJxpW"
      },
      "source": [
        "Notera hur träningsnoggrannheten konstant går uppåt (och träningsförlusten nedåt). Medan valideringsförlusten bottnar ut någonstans mellan 5-10 epochs för att sedan långsamt går uppåt. Detta tyder på en svag överträning, om förlusten hade fortsatt nedåt tillsammans med träningsförlusten hade modellen fortfarande varit undertränad. Men överlag kan vi misstänka att modellens kapacitet vid 15 epochs är det bästa som denna modell kan åstadkomma."
      ]
    },
    {
      "cell_type": "markdown",
      "metadata": {
        "id": "_6V9rOkX-bRa"
      },
      "source": [
        "# Evaluate the model on the test data.\n",
        "This first model get something around 89.5 % accuracy, not bad, but we can improve on this!"
      ]
    },
    {
      "cell_type": "code",
      "execution_count": null,
      "metadata": {
        "colab": {
          "base_uri": "https://localhost:8080/"
        },
        "id": "ZrwPwEQn-dVX",
        "outputId": "541479a3-ca5a-4040-c3be-208185d8ab79",
        "vscode": {
          "languageId": "python"
        }
      },
      "outputs": [
        {
          "name": "stdout",
          "output_type": "stream",
          "text": [
            "313/313 [==============================] - 0s 1ms/step - loss: 0.3863 - categorical_accuracy: 0.8958\n",
            "Test accuracy: 0.896\n"
          ]
        }
      ],
      "source": [
        "def eval(model:Model, data:str=\"test\"):\n",
        "    images, labels = str2data[data]\n",
        "    # Evaluate the model.\n",
        "    test_loss, test_acc = model.evaluate(images,to_categorical(labels))\n",
        "    print('Test accuracy: %.3f' % test_acc)\n",
        "    return test_acc"
      ]
    },
    {
      "cell_type": "markdown",
      "metadata": {
        "id": "oR2HHYg2AoMK"
      },
      "source": [
        "# Övning Del 1a\n",
        "## Frågor att besvara:\n",
        "* Hur många parametrar har din modell?\n",
        "* Vilken testnoggrannhet får du? (Då modellen är slumpmässing initierad kan du få ett värde som skiljer sig lite grann.)\n",
        "* Om du tittar på träningsförloppet, har modellen tränat färdigt eller är den undertränad eller kanske övertränad, vad i träningskurvorna kan avgöra det?\n",
        "* Hur många epochs skulle ha varit lämpligt att använda?"
      ]
    },
    {
      "cell_type": "markdown",
      "metadata": {
        "id": "5kyZXtIvBtQz"
      },
      "source": [
        "# Del 1b - Fortsatta experiment:\n",
        "Det finns nu många saker du kan utforska men vi vill att du nu undersöker lite olika modeller. Undersök om du får en förbättring av testnoggrannhet ifall du gör modellen mer kraftfull (fler noder och/eller fler lager). Ha hela tiden ett öga på ifall modellen börjar överträna (att valideringsförlusten börjar gå uppåt igen). Notera att man gärna har med MaxPooling2D-lager mellan varje eller varannat faltningslager, då det hjälper med att hålla ner antalet parametrar vilket även leder till snabbare och ofta bättre träningsresultat (ger tex en viss extra translations och skalinvarians). Detta är speciellt viktigt om man har stora inbilder, men kan nog ge bra effekt även på våra minimala bilder.\n",
        "\n",
        "Målet är att få modellen att bli komplex nog att väl kunna representera data. En viss överträning är OK, vi ska ju sedan åtgärda det med regularisering.\n",
        "* Hur många faltningslager verkar rimligt att använda (håll dig under 4-5, det kan vara bättre att lägga till kärnor istället.\n",
        "* Hur många kärnor/noder verkar vettigt att använda?\n",
        "* Pröva även att använda ex 5x5 kärna för det första eller kanske något lager till, blir det bättre då? \n",
        "* Om en modell övertränar, gör ett experiment där du istället för att köra alla dina epochs slutar där verifieringsfelet börjar gå uppåt igen. Vad blir skillnaden i testnoggrannhet?\n",
        "\n",
        "Du behöver inte ha med kod för alla experiment, om du inte vill, men vi vill åtminstone se koden, träningsförloppet, och testnoggrannheten för din bästa modell.\n",
        "\n",
        "För minst en av dessa parameterinställningar ska du nå mer än 90% rätt på testdata för Fashion-MNIST."
      ]
    },
    {
      "cell_type": "code",
      "execution_count": null,
      "metadata": {
        "id": "DpSLuBimWmJk",
        "vscode": {
          "languageId": "python"
        }
      },
      "outputs": [],
      "source": [
        "# Kod för din bästa modell och dess träning och utvärdering"
      ]
    },
    {
      "cell_type": "markdown",
      "metadata": {
        "id": "7MMttcupPmiq"
      },
      "source": [
        "## Analys\n",
        "Dokumentera dina experiment, med modellkonfiguration, testnoggrannhet, och vid vilken epoch modellen börjar överträna.\n",
        "* Gör en sammanfattande analys av dina experiment hittills."
      ]
    },
    {
      "cell_type": "markdown",
      "metadata": {
        "id": "CIR5LYQi6vDe"
      },
      "source": [
        "# Övning Del 2a - avbruten träning\n",
        "Utgå ifrån din bästa modell som du fått fram i del 1 och för den implementera avbruten träning (eng. early stopping) som ett sätt att förhindra överträning. [See Geron s. 141]\n",
        "\n",
        "Du behöver definiera en \"callback\" som sedan includeras i anropet till model.fit: *es=tf.keras.callbacks.EarlyStopping('val_loss', patience=3, restore_best_weights = True)*\n",
        "\n",
        "*model.fit(\n",
        "  train_images, to_categorical(train_labels),\n",
        "  epochs=epochs,\n",
        "  batch_size=batch_size,\n",
        "  **callbacks=[es]**,\n",
        "  validation_data=(val_images, to_categorical(val_labels))\n",
        ")*\n",
        "\n",
        "Viktigt är att notera restore_best_weights=True ifall man använder patience>0, för annars så har man en övertränad modell efter träningen.\n"
      ]
    },
    {
      "cell_type": "code",
      "execution_count": null,
      "metadata": {
        "id": "Eilf6C_E7Mcd",
        "vscode": {
          "languageId": "python"
        }
      },
      "outputs": [],
      "source": [
        "# Kod där du inför avbruten träning"
      ]
    },
    {
      "cell_type": "markdown",
      "metadata": {
        "id": "vaZR15OEJQKs"
      },
      "source": [
        "## Analys\n",
        "Vid vilken Epoch stannar nu träningen? Ändras nu modellens testnoggrannhet då den inte övertränar?"
      ]
    },
    {
      "cell_type": "markdown",
      "metadata": {
        "id": "xoYoC9KYTLtT"
      },
      "source": [
        "# Övning Del 2b Andra former av regularisering\n"
      ]
    },
    {
      "cell_type": "markdown",
      "metadata": {
        "id": "n0PXMFPccvP8"
      },
      "source": [
        "Utgå ifrån din bästa modell som du fått fram i del 1 men använd avbruten träning. Nu ska du skapa en modell som använder regularisering, tex. drop-out eller batchnormalisering. Analysera och jämför dessa modeller (med och utan regularisering) genom att notera deras testnoggrannhet och plotta tränings- och valideringsnoggrannheten (eng. accuracy) respektive förlust (eng. loss), och notera ifall en förbättring kan iakttas med regularisering. Hur många Epoch använder du för träningen? [See Geron s 338, s. 365]"
      ]
    },
    {
      "cell_type": "code",
      "execution_count": null,
      "metadata": {
        "id": "xx3Il_R3TAjl",
        "vscode": {
          "languageId": "python"
        }
      },
      "outputs": [],
      "source": [
        "# Kod där du inför regularisering"
      ]
    },
    {
      "cell_type": "markdown",
      "metadata": {
        "id": "Ctk9BAgVIUCD"
      },
      "source": [
        "## Analys\n",
        "Analysera och jämför dina modeller (med och utan regularisering) genom att notera deras testnoggrannhet och plotta tränings- och valideringsnoggrannheten (eng. accuracy) respektive förlust (eng. loss), och notera ifall en förbättring kan iakttas med regularisering. Hur många Epoch använder du för träningen? "
      ]
    },
    {
      "cell_type": "markdown",
      "metadata": {
        "id": "ominqognCKQ0"
      },
      "source": [
        "# Övriga Hyperparametrar\n",
        "Det finns ett antal andra viktiga parametrar som man kan behöva justera. Men flera av dem hänger ihop, så man behöver jobba med olika modeller och data för att få en bra känsla för dem. [See Geron s. 325.., s. 351.. ]\n",
        "* Batch size / batch storlek -- Ett större värde här kan ge GPUn mer parallellism att arbeta med, dvs snabbare, men ett för stort värde kan ge minnesproblem i GPUn och dessutom göra inlärningen långsammare (man kan dock även ha större LR i så fall.\n",
        "* Optimizer / optimerare -- En vanlig och bra optimerade är Adam (den är dessutom ganska okänslig för vilken inlärningstakt som den startar med, vilket gör att skönsvärdet fugerar bra). Medan sgd är en mer \"ursprunglig\" optimerare.\n",
        "* Learning rate / inlärningstakt (LR) -- Viktig parameter för hur snabbt modellen tränar, men för stort färde kan ge instabil träning."
      ]
    },
    {
      "cell_type": "markdown",
      "metadata": {
        "id": "H-7dDWzwGH9c"
      },
      "source": [
        "# Övning Del 2c\n",
        "Byt ut optimeraren från adam till sgd (med regularisering och avbruten träning). Jämför träningsförfarandet mellan de två optimerarna (skillnad i testnoggrannhet, vilken epoch stannade träningen, etc.?). "
      ]
    },
    {
      "cell_type": "code",
      "execution_count": null,
      "metadata": {
        "id": "7MeBdyzAHiCX",
        "vscode": {
          "languageId": "python"
        }
      },
      "outputs": [],
      "source": [
        "# Din kod för en körning med sgd som optimerare"
      ]
    },
    {
      "cell_type": "markdown",
      "metadata": {
        "id": "d7QvZC8ONS95"
      },
      "source": [
        "# Del 3 Auto tune\n",
        "Here we test on of the hyperparameter optimizers called Keras Tuner. Documentation can be found here: https://keras-team.github.io/keras-tuner/"
      ]
    },
    {
      "cell_type": "code",
      "execution_count": null,
      "metadata": {
        "colab": {
          "base_uri": "https://localhost:8080/"
        },
        "id": "mCL16yCINhVS",
        "outputId": "1444fbcb-2ab9-468d-b7b4-67f70d9c6c2b",
        "vscode": {
          "languageId": "python"
        }
      },
      "outputs": [
        {
          "name": "stdout",
          "output_type": "stream",
          "text": [
            "Keras Tuner version: 1.1.2\n"
          ]
        }
      ],
      "source": [
        "# Get Keras Tuner (if in colab)\n",
        "import sys\n",
        "if 'google.colab' in sys.modules:\n",
        "  !pip install keras_tuner -q\n",
        "\n",
        "import keras_tuner\n",
        "print('Keras Tuner version:', keras_tuner.__version__)\n",
        "\n",
        "# Get some tuner search functions\n",
        "from keras_tuner.tuners import BayesianOptimization"
      ]
    },
    {
      "cell_type": "markdown",
      "metadata": {
        "id": "PVNB09pdRwo1"
      },
      "source": [
        "## Exempelmodell (du ska sedan göra en egen!)"
      ]
    },
    {
      "cell_type": "code",
      "execution_count": null,
      "metadata": {
        "id": "DkN7ntftOVQi",
        "vscode": {
          "languageId": "python"
        }
      },
      "outputs": [],
      "source": [
        "# This is a straight forward CNN model to decently solve Fashion MNIST\n",
        "# Note that we have no regularisation for this example!\n",
        "# It can at least achieve 92% accuracy for me, with the parameters found:\n",
        "# conv_1_filter =  96, conv_1_kernel =   5, \n",
        "# conv_2_filter =  48, conv_2_kernel =   5\n",
        "# dense_1_units =  128\n",
        "# learning_rate = 0.001\n",
        "# batch_size = 320\n",
        "\n",
        "def build_model_2Conv1Dense(hp):  \n",
        "  model = tf.keras.Sequential([\n",
        "    # First Convolutional Layer\n",
        "    tf.keras.layers.Conv2D(\n",
        "        filters=hp.Int('conv_1_filter', min_value=32, max_value=256, step=32),\n",
        "        kernel_size=hp.Choice('conv_1_kernel', values = [3,5]),\n",
        "        activation='relu',\n",
        "        padding='same',\n",
        "        input_shape=(28,28,1)\n",
        "    ),\n",
        "    tf.keras.layers.BatchNormalization(),\n",
        "\n",
        "    # Second Convolutional Layer\n",
        "    tf.keras.layers.Conv2D(\n",
        "        filters=hp.Int('conv_2_filter', min_value=32, max_value=256, step=32),\n",
        "        kernel_size=hp.Choice('conv_2_kernel', values = [3,5]),\n",
        "        activation='relu',\n",
        "        padding='same'\n",
        "    ),\n",
        "    tf.keras.layers.MaxPooling2D(pool_size=(2, 2), strides=(2,2)),\n",
        "\n",
        "    # A First Dense Layer\n",
        "    tf.keras.layers.Flatten(),\n",
        "    tf.keras.layers.Dense(\n",
        "        units=hp.Int('dense_1_units', min_value=32, max_value=256, step=32),\n",
        "        activation='relu'\n",
        "    ),\n",
        "\n",
        "    # A Final Dense Layer\n",
        "    tf.keras.layers.Dense(10, activation='softmax')\n",
        "  ])\n",
        "  \n",
        "  model.compile(optimizer=tf.keras.optimizers.Adam(hp.Choice('learning_rate', values=[1e-2, 1e-3])),\n",
        "              loss='sparse_categorical_crossentropy',\n",
        "              metrics=['accuracy'])\n",
        "  \n",
        "  return model"
      ]
    },
    {
      "cell_type": "markdown",
      "metadata": {
        "id": "evRPRGRkOmpm"
      },
      "source": [
        "# Övning 3: Kod för instrumentera din egen model att optimeras med Keras Tuner\n",
        "Utgå ifrån din bästa modell som du fått fram i del 2 och instrumentera den för att optimeras med Keras Tuner."
      ]
    },
    {
      "cell_type": "code",
      "execution_count": null,
      "metadata": {
        "id": "3Haf7S-sOzKs",
        "vscode": {
          "languageId": "python"
        }
      },
      "outputs": [],
      "source": [
        "# Kompletera denna kod med din modell\n",
        "def build_model_MyModel(hp):  \n",
        "  model = tf.keras.Sequential([\n",
        "    # First Convolutional Layer5'\n",
        "    ##### YOUR CODE HERE! #####\n",
        "\n",
        "    # A Final Dense Layer\n",
        "    tf.keras.layers.Dense(10, activation='softmax')\n",
        "  ])\n",
        "  \n",
        "  ##### You can also try some other learning rates in the next line, or use another optimizer with other parameters\n",
        "  model.compile(optimizer=tf.keras.optimizers.Adam(hp.Choice('learning_rate', values=[1e-2, 1e-3])),\n",
        "              loss='sparse_categorical_crossentropy',\n",
        "              metrics=['accuracy'])\n",
        "  \n",
        "  return model"
      ]
    },
    {
      "cell_type": "markdown",
      "metadata": {
        "id": "RGMc2PtqWeoY"
      },
      "source": [
        "# Do the actual search, based on a BayesianOptimization\n",
        "Widely-used tuning algorithms: RandomSearch, BayesianOptimization and Hyperband. Here we will use BayesianOptimization. \n",
        "\n",
        "But note that there is a parameter *num_initial_points* to BayesianOptimization which state the number of randomly generated samples as initial training data for Bayesian optimization. If left unspecified, a value of 3 times the dimensionality of the hyperparameter space is used. That is, we might only use random search if we have too few trails."
      ]
    },
    {
      "cell_type": "code",
      "execution_count": null,
      "metadata": {
        "id": "10H7acwkPOpB",
        "vscode": {
          "languageId": "python"
        }
      },
      "outputs": [],
      "source": [
        "# To get more stable results we are repeating the runs two times for each parameter setup\n",
        "MAX_TRIALS = 20         # represents the number of hyperparameter combinations that will be tested by the tuner\n",
        "EXECUTION_PER_TRIAL = 2 # the number of models that should be built and fit for each trial for robustness purposes"
      ]
    },
    {
      "cell_type": "code",
      "execution_count": null,
      "metadata": {
        "id": "mw62ioE_PQKZ",
        "vscode": {
          "languageId": "python"
        }
      },
      "outputs": [],
      "source": [
        "# To have batch_size as a hyperparameter we need to define our own tuner\n",
        "# In this case, we are basing it on the BayesianOptimization tuner found in\n",
        "# https://keras-team.github.io/keras-tuner/documentation/tuners/#bayesianoptimization-class\n",
        "class MyTuner(keras_tuner.tuners.BayesianOptimization):\n",
        "  def run_trial(self, trial, *args, **kwargs):\n",
        "    # You can add additional HyperParameters for preprocessing and custom training loops\n",
        "    # via overriding `run_trial`\n",
        "    kwargs['batch_size'] = trial.hyperparameters.Int('batch_size', 32, 512, step=32, default=256)\n",
        "    return super(MyTuner, self).run_trial(trial, *args, **kwargs)"
      ]
    },
    {
      "cell_type": "code",
      "execution_count": null,
      "metadata": {
        "id": "tMC8hgl3PZpI",
        "vscode": {
          "languageId": "python"
        }
      },
      "outputs": [],
      "source": [
        "# Bayesian search which also searches for batch_size\n",
        "tuner = MyTuner(\n",
        "    build_model_2Conv1Dense, ##### Laboration: Change this to 'build_model_MyModel' #####\n",
        "    max_trials=MAX_TRIALS,\n",
        "    objective='val_accuracy',\n",
        "    executions_per_trial=EXECUTION_PER_TRIAL,\n",
        "    directory='output',\n",
        "    overwrite=True,\n",
        "    num_initial_points=10, # Start with 10 random points and then do more structured search\n",
        "    project_name='FashionMNIST'\n",
        ")"
      ]
    },
    {
      "cell_type": "markdown",
      "metadata": {
        "id": "7AqPBQEPfCw1"
      },
      "source": [
        "# Help it takes so much time!\n",
        "Yes, doing a parameter search takes time! Using a K80 this search takes 1h24 (while a RTX 3090 takes 10 minutes), and if your model is more complicated it can take even more time. To handle this you could try setting EXECUTION_PER_TRIAL=1, even if the search becomes more instable. You can also try to run in phases, do a first run with EXECUTION_PER_TRIAL=1 and even noepochauto = 4 or 5, to get a feeling for good parameter limits and starting points (setting things like \"default=128\" in the hp.Int() call) for your variables, and maybe even lock some variables (like LR?). And then do a more focused search where you maybe try EXECUTION_PER_TRIAL=2, noepochauto = 6 or 7 for a smaller number of MAX_TRIALS.\n",
        "\n",
        "If you do such multiphase process, please document it well!"
      ]
    },
    {
      "cell_type": "code",
      "execution_count": null,
      "metadata": {
        "colab": {
          "base_uri": "https://localhost:8080/"
        },
        "id": "gEDRhLr8PdfO",
        "outputId": "a7adf6ca-5f6a-4990-c924-62d103092bad",
        "vscode": {
          "languageId": "python"
        }
      },
      "outputs": [
        {
          "name": "stdout",
          "output_type": "stream",
          "text": [
            "Trial 20 Complete [00h 00m 25s]\n",
            "val_accuracy: 0.8767916858196259\n",
            "\n",
            "Best val_accuracy So Far: 0.9229583144187927\n",
            "Total elapsed time: 00h 14m 24s\n",
            "INFO:tensorflow:Oracle triggered exit\n"
          ]
        }
      ],
      "source": [
        "# Do the hyperparameter search\n",
        "# I set the no of epochs to 6 to speed up the search in this excersise, better would have been 10\n",
        "noepochauto = 6   ## Max number of epochs per trail (but we have early stopping so this max is probably not reached)\n",
        "es = tf.keras.callbacks.EarlyStopping('val_loss', patience=2, restore_best_weights = True)\n",
        "# Note we do not need to_catagorical as we use loss='sparse_categorical_crossentropy'\n",
        "tuner.search(train_images, train_labels, \n",
        "             epochs=noepochauto, \n",
        "             validation_data=(val_images, val_labels), \n",
        "             callbacks=[es])"
      ]
    },
    {
      "cell_type": "code",
      "execution_count": null,
      "metadata": {
        "colab": {
          "base_uri": "https://localhost:8080/"
        },
        "id": "n-VT_1v8PsjH",
        "outputId": "47ee2ccd-9e82-431e-e1e2-e65a91458d14",
        "vscode": {
          "languageId": "python"
        }
      },
      "outputs": [
        {
          "name": "stdout",
          "output_type": "stream",
          "text": [
            "       conv_1_filter = 224\n",
            "       conv_1_kernel =   5\n",
            "       conv_2_filter = 160\n",
            "       conv_2_kernel =   5\n",
            "       dense_1_units = 128\n",
            "       learning_rate = 0.001\n",
            "          batch_size = 384\n",
            "Model: \"sequential\"\n",
            "_________________________________________________________________\n",
            " Layer (type)                Output Shape              Param #   \n",
            "=================================================================\n",
            " conv2d (Conv2D)             (None, 28, 28, 256)       2560      \n",
            "                                                                 \n",
            " batch_normalization (BatchN  (None, 28, 28, 256)      1024      \n",
            " ormalization)                                                   \n",
            "                                                                 \n",
            " conv2d_1 (Conv2D)           (None, 28, 28, 256)       590080    \n",
            "                                                                 \n",
            " max_pooling2d (MaxPooling2D  (None, 14, 14, 256)      0         \n",
            " )                                                               \n",
            "                                                                 \n",
            " flatten (Flatten)           (None, 50176)             0         \n",
            "                                                                 \n",
            " dense (Dense)               (None, 96)                4816992   \n",
            "                                                                 \n",
            " dense_1 (Dense)             (None, 10)                970       \n",
            "                                                                 \n",
            "=================================================================\n",
            "Total params: 5,411,626\n",
            "Trainable params: 5,411,114\n",
            "Non-trainable params: 512\n",
            "_________________________________________________________________\n"
          ]
        }
      ],
      "source": [
        "# Get the best model so far\n",
        "model = tuner.get_best_models(num_models=1)[0]\n",
        "# Dump the best hyperparameters found\n",
        "vals = tuner.get_best_hyperparameters(num_trials=5)[4].values\n",
        "for keys,values in vals.items():\n",
        "    print('%20s = %3.4g' %(keys,values))\n",
        "    \n",
        "model.summary()"
      ]
    },
    {
      "cell_type": "code",
      "execution_count": null,
      "metadata": {
        "colab": {
          "base_uri": "https://localhost:8080/"
        },
        "id": "Qoom8_ADRJ87",
        "outputId": "1a582890-7fb0-4ab7-8d57-9580f153e7ea",
        "vscode": {
          "languageId": "python"
        }
      },
      "outputs": [
        {
          "name": "stdout",
          "output_type": "stream",
          "text": [
            "313/313 [==============================] - 1s 2ms/step - loss: 0.2340 - accuracy: 0.9221\n",
            "Test accuracy: 0.922\n"
          ]
        }
      ],
      "source": [
        "# Evaluate the model.\n",
        "test_loss, test_acc = model.evaluate(test_images,test_labels)\n",
        "print('Test accuracy: %.3f' % test_acc)"
      ]
    },
    {
      "cell_type": "markdown",
      "metadata": {
        "id": "PxuExn6aP3RB"
      },
      "source": [
        "## Code to explore the n-best models"
      ]
    },
    {
      "cell_type": "code",
      "execution_count": null,
      "metadata": {
        "colab": {
          "base_uri": "https://localhost:8080/"
        },
        "id": "V98UosuJQB83",
        "outputId": "f4d52db1-99ba-46fc-8082-140707d91008",
        "vscode": {
          "languageId": "python"
        }
      },
      "outputs": [
        {
          "name": "stdout",
          "output_type": "stream",
          "text": [
            "Test accuracy   conv_1_filter   conv_1_kernel   conv_2_filter   conv_2_kernel   dense_1_units   learning_rate      batch_size \n",
            "\n",
            "          0.922             256               3             256               3              96           0.001             320 \n",
            "          0.913             160               3             256               3             256           0.001              32 \n",
            "          0.909             160               3             160               5              64           0.001             128 \n",
            "          0.907              32               5              32               5             256           0.001              32 \n",
            "          0.912             224               5             160               5             128           0.001             384 \n"
          ]
        }
      ],
      "source": [
        "# Let us dump the n-best\n",
        "\n",
        "if True:\n",
        "  explorenbest = 5\n",
        "\n",
        "  # Suppress warnings about optimizer state not being restored by tf.keras.\n",
        "  tf.get_logger().setLevel('ERROR')\n",
        "\n",
        "  # Print a heading\n",
        "  vals = tuner.get_best_hyperparameters(num_trials=explorenbest)[0].values\n",
        "  print('Test accuracy ', end = '')\n",
        "  for keys,values in vals.items():\n",
        "      print('%15s ' %(keys), end = '')\n",
        "  print('\\n')\n",
        "\n",
        "  # Now print each trail on a seperate row from best to worst\n",
        "  for ix in range(0,explorenbest): \n",
        "    # evaluate this trail\n",
        "    model = tuner.get_best_models(num_models=explorenbest)[ix]\n",
        "    test_loss, test_acc = model.evaluate(test_images,test_labels, verbose=0)\n",
        "    print('%15.3f ' % test_acc , end = '')\n",
        "    # get this trail's hyperparameters\n",
        "    vals = tuner.get_best_hyperparameters(num_trials=explorenbest)[ix].values\n",
        "    for keys,values in vals.items():\n",
        "      print('%15.4g ' %(values), end = '')\n",
        "    # end this line and start the trail\n",
        "    print()"
      ]
    },
    {
      "cell_type": "markdown",
      "metadata": {
        "id": "FRG79o5edPAi"
      },
      "source": [
        "Notice that the model with the best validation accuracy not necessarily gives the best test accuracy! But we have to live with this as this is the best we can do with the data set aside for training and validation. "
      ]
    },
    {
      "cell_type": "markdown",
      "metadata": {
        "id": "Ix2PgTMaNPaT"
      },
      "source": [
        "# With our found hyperparameters, continue training\n",
        "(We do this especially as we only done 6 epochs during search.)"
      ]
    },
    {
      "cell_type": "code",
      "execution_count": null,
      "metadata": {
        "colab": {
          "base_uri": "https://localhost:8080/"
        },
        "id": "74oCuObpNkPe",
        "outputId": "011767a0-a1ef-47d5-b8c4-5f701fde44fc",
        "vscode": {
          "languageId": "python"
        }
      },
      "outputs": [
        {
          "name": "stdout",
          "output_type": "stream",
          "text": [
            "Epoch 1/30\n",
            "150/150 [==============================] - 5s 33ms/step - loss: 0.1083 - accuracy: 0.9617 - val_loss: 0.2441 - val_accuracy: 0.9157\n",
            "Epoch 2/30\n",
            "150/150 [==============================] - 5s 33ms/step - loss: 0.0818 - accuracy: 0.9707 - val_loss: 0.2697 - val_accuracy: 0.9184\n",
            "Epoch 3/30\n",
            "149/150 [============================>.] - ETA: 0s - loss: 0.0662 - accuracy: 0.9762Restoring model weights from the end of the best epoch: 1.\n",
            "150/150 [==============================] - 5s 33ms/step - loss: 0.0662 - accuracy: 0.9762 - val_loss: 0.2746 - val_accuracy: 0.9196\n",
            "Epoch 3: early stopping\n"
          ]
        }
      ],
      "source": [
        "# Fine-tune the model using the best parameters found as we might not be fully trained\n",
        "model = tuner.get_best_models(num_models=1)[0]\n",
        "\n",
        "epochs = 30      ## (max) number of epoch to run\n",
        "opt_batch_size = tuner.get_best_hyperparameters()[0]['batch_size']\n",
        "\n",
        "# Set callback functions to early stop training\n",
        "callbacks = [tf.keras.callbacks.EarlyStopping(monitor='val_loss', mode='auto', verbose=1, patience=2, restore_best_weights = True)]\n",
        "\n",
        "# Continue to train the model. (note that we are continuing from the training done during tuning)\n",
        "history = model.fit(\n",
        "  train_images, train_labels,\n",
        "  epochs=epochs,\n",
        "  batch_size=opt_batch_size,\n",
        "  verbose = 1,\n",
        "  validation_data=(val_images, val_labels),\n",
        "  # initial_epoch=noepochauto, ## how to get this number???? from... \"(root).optimizer.iter\" maybe\n",
        "  callbacks=callbacks\n",
        ")"
      ]
    },
    {
      "cell_type": "code",
      "execution_count": null,
      "metadata": {
        "colab": {
          "base_uri": "https://localhost:8080/"
        },
        "id": "bAsos-f4Nye8",
        "outputId": "974b09da-364e-4755-a4a8-cb4b3d792c63",
        "vscode": {
          "languageId": "python"
        }
      },
      "outputs": [
        {
          "name": "stdout",
          "output_type": "stream",
          "text": [
            "313/313 [==============================] - 1s 2ms/step - loss: 0.2534 - accuracy: 0.9160\n",
            "Test accuracy: 0.916\n"
          ]
        }
      ],
      "source": [
        "# Evaluate the model.\n",
        "test_loss, test_acc = model.evaluate(test_images,test_labels)\n",
        "print('Test accuracy: %.3f' % test_acc)"
      ]
    },
    {
      "cell_type": "code",
      "execution_count": null,
      "metadata": {
        "colab": {
          "base_uri": "https://localhost:8080/"
        },
        "id": "WketomR6iVWk",
        "outputId": "5499e976-cf02-4aa2-8d69-774b83fd0053",
        "vscode": {
          "languageId": "python"
        }
      },
      "outputs": [
        {
          "name": "stdout",
          "output_type": "stream",
          "text": [
            "Model: \"sequential\"\n",
            "_________________________________________________________________\n",
            " Layer (type)                Output Shape              Param #   \n",
            "=================================================================\n",
            " conv2d (Conv2D)             (None, 28, 28, 256)       2560      \n",
            "                                                                 \n",
            " batch_normalization (BatchN  (None, 28, 28, 256)      1024      \n",
            " ormalization)                                                   \n",
            "                                                                 \n",
            " conv2d_1 (Conv2D)           (None, 28, 28, 256)       590080    \n",
            "                                                                 \n",
            " max_pooling2d (MaxPooling2D  (None, 14, 14, 256)      0         \n",
            " )                                                               \n",
            "                                                                 \n",
            " flatten (Flatten)           (None, 50176)             0         \n",
            "                                                                 \n",
            " dense (Dense)               (None, 96)                4816992   \n",
            "                                                                 \n",
            " dense_1 (Dense)             (None, 10)                970       \n",
            "                                                                 \n",
            "=================================================================\n",
            "Total params: 5,411,626\n",
            "Trainable params: 5,411,114\n",
            "Non-trainable params: 512\n",
            "_________________________________________________________________\n"
          ]
        }
      ],
      "source": [
        "# See what we got and how many parameters are used\n",
        "model.summary()"
      ]
    },
    {
      "cell_type": "markdown",
      "metadata": {
        "id": "qQKU8ZEXQZDV"
      },
      "source": [
        "#Analys\n",
        "Gör en komplett analys av de optimerade modellerna du fått fram mha Keras Tuner. Några frågor man kan ställa sig:\n",
        "* Hur jämför sig dessa värden, mha en Bayesiansk sökning, från de värden då fått fram i del 1 och del 2? \n",
        "* Vilka prestanda fick du för de olika fallen? \n",
        "* Finns det parametrar som ligger vid ändvärdena av den använda sökrymden? (i så fall kanske du borde köra om med utökade gränser?)\n",
        "* Vilka hyperparametrar verkade vara mest betydelsefulla? \n",
        "* Kan man se någon trend bland parametrarna (tex antalet faltningskärnor i tidiga respektive sena lager, etc)? \n",
        "* Varför utför man samma experiment flera gångar \"EXECUTION_PER_TRIAL = 2\", dvs varför blir det inte samma resultat varje gång?\n",
        "* Annat som du iaktagit?"
      ]
    },
    {
      "cell_type": "markdown",
      "metadata": {
        "id": "V67KzZlmckBw"
      },
      "source": [
        "# Uppgifter för väl godkänt"
      ]
    },
    {
      "cell_type": "markdown",
      "metadata": {
        "id": "nDD_rMGXcsyX"
      },
      "source": [
        "Utökning av Del2: Utforska de testfall som missklassificerades för en av dina toppmodeller, vilka typer av plagg verkar vara de som oftast blir fel på, om du tittar på dessa fel förstår du varför nätet har problem med dem?"
      ]
    },
    {
      "cell_type": "code",
      "execution_count": null,
      "metadata": {
        "id": "1K5x5iL39A22",
        "vscode": {
          "languageId": "python"
        }
      },
      "outputs": [],
      "source": [
        "# Din kod som utforskar de testfall som missklassificerades"
      ]
    },
    {
      "cell_type": "markdown",
      "metadata": {
        "id": "81rFfKrm9HaC"
      },
      "source": [
        "Utökning av Del3: Implementera en undersökning där du även varierar antal lager i din modell, du kan ändra både faltningslager och kompakta lager (eng. dense layers) för att se ifall en ännu bättre modell kan hittas."
      ]
    },
    {
      "cell_type": "markdown",
      "metadata": {
        "id": "7lQPNnmYdNBR"
      },
      "source": [
        "Tips: Det är nog bäst att använda en inkrementell/funktionell definition av modellen (där lager läggs till med \"model.add(...)\" för då blir det lättare att göra en for-slinga runt koden som lägger till ett visst antal lager. Jmf https://keras.io/guides/sequential_model/ \n",
        "\n",
        "\n",
        "```\n",
        "    filter1=hp.Int('conv_pre_filter', min_value=32, max_value=160, step=32, default=64)\n",
        "    kernel1=hp.Choice('conv_pre_kernel', values = [3,5], default=3)\n",
        "    model = Sequential()\n",
        "    # Add a first convolution layer (with input size)\n",
        "    model.add(Conv2D(filters=filter1, kernel_size=kernel1, padding='same', activation='relu', input_shape=train_images[0].shape))\n",
        "    # More fixed layers?\n",
        "    model.add(....more layer definitions....) \n",
        "    # Add a varying number of layers\n",
        "    no_layers = hp.Int('num_layers', 0, 3)\n",
        "    for i in range(no_layers):\n",
        "          model.add(Conv2D(filters=hp.Int(f'conv_{i+1}_units', ...parameters...), \n",
        "                          kernel_size=hp.Choice(f'conv_{i+1}_kernel', ...parameters....),\n",
        "                          activation='relu'\n",
        "                          )\n",
        "                    )\n",
        "\n",
        "```\n",
        "\n"
      ]
    },
    {
      "cell_type": "code",
      "execution_count": null,
      "metadata": {
        "id": "JR43zXtw9VSx",
        "vscode": {
          "languageId": "python"
        }
      },
      "outputs": [],
      "source": [
        "# Din kod för en keras tuner modell som har antalet lager som en hyperparameter \n",
        "# och där du söker efter optimerade hyperparametrar för denna modell."
      ]
    }
  ],
  "metadata": {
    "accelerator": "GPU",
    "colab": {
      "collapsed_sections": [
        "7MMttcupPmiq"
      ],
      "provenance": [],
      "toc_visible": true
    },
    "kernelspec": {
      "display_name": "Python 3",
      "name": "python3"
    }
  },
  "nbformat": 4,
  "nbformat_minor": 0
}
