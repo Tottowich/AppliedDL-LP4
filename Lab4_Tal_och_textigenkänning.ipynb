{
  "cells": [
    {
      "cell_type": "markdown",
      "metadata": {
        "id": "W5VCfhlqIoH5"
      },
      "source": [
        "# Theodor Jonsson Lab 4\n",
        "I used code from [Chollet Chapter 6.2](https://colab.research.google.com/github/fchollet/deep-learning-with-python-notebooks/blob/master/first_edition/6.2-understanding-recurrent-neural-networks.ipynb) as a blueprint when conducting this laboration."
      ]
    },
    {
      "cell_type": "code",
      "execution_count": 60,
      "metadata": {
        "colab": {
          "base_uri": "https://localhost:8080/"
        },
        "id": "mhaa8mx7Ho9Z",
        "outputId": "dcaa1ae7-e1a1-4428-82c1-90937a697fbb"
      },
      "outputs": [
        {
          "name": "stdout",
          "output_type": "stream",
          "text": [
            "TensorFlow version: 2.14.0-dev20230508\n",
            "Downloading data from https://storage.googleapis.com/tensorflow/tf-keras-datasets/imdb_word_index.json\n"
          ]
        },
        {
          "ename": "Exception",
          "evalue": "URL fetch failure on https://storage.googleapis.com/tensorflow/tf-keras-datasets/imdb_word_index.json: None -- [Errno 8] nodename nor servname provided, or not known",
          "output_type": "error",
          "traceback": [
            "\u001b[0;31m---------------------------------------------------------------------------\u001b[0m",
            "\u001b[0;31mgaierror\u001b[0m                                  Traceback (most recent call last)",
            "File \u001b[0;32m~/miniconda/envs/tf/lib/python3.9/urllib/request.py:1346\u001b[0m, in \u001b[0;36mAbstractHTTPHandler.do_open\u001b[0;34m(self, http_class, req, **http_conn_args)\u001b[0m\n\u001b[1;32m   1345\u001b[0m \u001b[39mtry\u001b[39;00m:\n\u001b[0;32m-> 1346\u001b[0m     h\u001b[39m.\u001b[39;49mrequest(req\u001b[39m.\u001b[39;49mget_method(), req\u001b[39m.\u001b[39;49mselector, req\u001b[39m.\u001b[39;49mdata, headers,\n\u001b[1;32m   1347\u001b[0m               encode_chunked\u001b[39m=\u001b[39;49mreq\u001b[39m.\u001b[39;49mhas_header(\u001b[39m'\u001b[39;49m\u001b[39mTransfer-encoding\u001b[39;49m\u001b[39m'\u001b[39;49m))\n\u001b[1;32m   1348\u001b[0m \u001b[39mexcept\u001b[39;00m \u001b[39mOSError\u001b[39;00m \u001b[39mas\u001b[39;00m err: \u001b[39m# timeout error\u001b[39;00m\n",
            "File \u001b[0;32m~/miniconda/envs/tf/lib/python3.9/http/client.py:1285\u001b[0m, in \u001b[0;36mHTTPConnection.request\u001b[0;34m(self, method, url, body, headers, encode_chunked)\u001b[0m\n\u001b[1;32m   1284\u001b[0m \u001b[39m\u001b[39m\u001b[39m\"\"\"Send a complete request to the server.\"\"\"\u001b[39;00m\n\u001b[0;32m-> 1285\u001b[0m \u001b[39mself\u001b[39;49m\u001b[39m.\u001b[39;49m_send_request(method, url, body, headers, encode_chunked)\n",
            "File \u001b[0;32m~/miniconda/envs/tf/lib/python3.9/http/client.py:1331\u001b[0m, in \u001b[0;36mHTTPConnection._send_request\u001b[0;34m(self, method, url, body, headers, encode_chunked)\u001b[0m\n\u001b[1;32m   1330\u001b[0m     body \u001b[39m=\u001b[39m _encode(body, \u001b[39m'\u001b[39m\u001b[39mbody\u001b[39m\u001b[39m'\u001b[39m)\n\u001b[0;32m-> 1331\u001b[0m \u001b[39mself\u001b[39;49m\u001b[39m.\u001b[39;49mendheaders(body, encode_chunked\u001b[39m=\u001b[39;49mencode_chunked)\n",
            "File \u001b[0;32m~/miniconda/envs/tf/lib/python3.9/http/client.py:1280\u001b[0m, in \u001b[0;36mHTTPConnection.endheaders\u001b[0;34m(self, message_body, encode_chunked)\u001b[0m\n\u001b[1;32m   1279\u001b[0m     \u001b[39mraise\u001b[39;00m CannotSendHeader()\n\u001b[0;32m-> 1280\u001b[0m \u001b[39mself\u001b[39;49m\u001b[39m.\u001b[39;49m_send_output(message_body, encode_chunked\u001b[39m=\u001b[39;49mencode_chunked)\n",
            "File \u001b[0;32m~/miniconda/envs/tf/lib/python3.9/http/client.py:1040\u001b[0m, in \u001b[0;36mHTTPConnection._send_output\u001b[0;34m(self, message_body, encode_chunked)\u001b[0m\n\u001b[1;32m   1039\u001b[0m \u001b[39mdel\u001b[39;00m \u001b[39mself\u001b[39m\u001b[39m.\u001b[39m_buffer[:]\n\u001b[0;32m-> 1040\u001b[0m \u001b[39mself\u001b[39;49m\u001b[39m.\u001b[39;49msend(msg)\n\u001b[1;32m   1042\u001b[0m \u001b[39mif\u001b[39;00m message_body \u001b[39mis\u001b[39;00m \u001b[39mnot\u001b[39;00m \u001b[39mNone\u001b[39;00m:\n\u001b[1;32m   1043\u001b[0m \n\u001b[1;32m   1044\u001b[0m     \u001b[39m# create a consistent interface to message_body\u001b[39;00m\n",
            "File \u001b[0;32m~/miniconda/envs/tf/lib/python3.9/http/client.py:980\u001b[0m, in \u001b[0;36mHTTPConnection.send\u001b[0;34m(self, data)\u001b[0m\n\u001b[1;32m    979\u001b[0m \u001b[39mif\u001b[39;00m \u001b[39mself\u001b[39m\u001b[39m.\u001b[39mauto_open:\n\u001b[0;32m--> 980\u001b[0m     \u001b[39mself\u001b[39;49m\u001b[39m.\u001b[39;49mconnect()\n\u001b[1;32m    981\u001b[0m \u001b[39melse\u001b[39;00m:\n",
            "File \u001b[0;32m~/miniconda/envs/tf/lib/python3.9/http/client.py:1447\u001b[0m, in \u001b[0;36mHTTPSConnection.connect\u001b[0;34m(self)\u001b[0m\n\u001b[1;32m   1445\u001b[0m \u001b[39m\"\u001b[39m\u001b[39mConnect to a host on a given (SSL) port.\u001b[39m\u001b[39m\"\u001b[39m\n\u001b[0;32m-> 1447\u001b[0m \u001b[39msuper\u001b[39;49m()\u001b[39m.\u001b[39;49mconnect()\n\u001b[1;32m   1449\u001b[0m \u001b[39mif\u001b[39;00m \u001b[39mself\u001b[39m\u001b[39m.\u001b[39m_tunnel_host:\n",
            "File \u001b[0;32m~/miniconda/envs/tf/lib/python3.9/http/client.py:946\u001b[0m, in \u001b[0;36mHTTPConnection.connect\u001b[0;34m(self)\u001b[0m\n\u001b[1;32m    945\u001b[0m \u001b[39m\u001b[39m\u001b[39m\"\"\"Connect to the host and port specified in __init__.\"\"\"\u001b[39;00m\n\u001b[0;32m--> 946\u001b[0m \u001b[39mself\u001b[39m\u001b[39m.\u001b[39msock \u001b[39m=\u001b[39m \u001b[39mself\u001b[39;49m\u001b[39m.\u001b[39;49m_create_connection(\n\u001b[1;32m    947\u001b[0m     (\u001b[39mself\u001b[39;49m\u001b[39m.\u001b[39;49mhost,\u001b[39mself\u001b[39;49m\u001b[39m.\u001b[39;49mport), \u001b[39mself\u001b[39;49m\u001b[39m.\u001b[39;49mtimeout, \u001b[39mself\u001b[39;49m\u001b[39m.\u001b[39;49msource_address)\n\u001b[1;32m    948\u001b[0m \u001b[39m# Might fail in OSs that don't implement TCP_NODELAY\u001b[39;00m\n",
            "File \u001b[0;32m~/miniconda/envs/tf/lib/python3.9/socket.py:823\u001b[0m, in \u001b[0;36mcreate_connection\u001b[0;34m(address, timeout, source_address)\u001b[0m\n\u001b[1;32m    822\u001b[0m err \u001b[39m=\u001b[39m \u001b[39mNone\u001b[39;00m\n\u001b[0;32m--> 823\u001b[0m \u001b[39mfor\u001b[39;00m res \u001b[39min\u001b[39;00m getaddrinfo(host, port, \u001b[39m0\u001b[39;49m, SOCK_STREAM):\n\u001b[1;32m    824\u001b[0m     af, socktype, proto, canonname, sa \u001b[39m=\u001b[39m res\n",
            "File \u001b[0;32m~/miniconda/envs/tf/lib/python3.9/socket.py:954\u001b[0m, in \u001b[0;36mgetaddrinfo\u001b[0;34m(host, port, family, type, proto, flags)\u001b[0m\n\u001b[1;32m    953\u001b[0m addrlist \u001b[39m=\u001b[39m []\n\u001b[0;32m--> 954\u001b[0m \u001b[39mfor\u001b[39;00m res \u001b[39min\u001b[39;00m _socket\u001b[39m.\u001b[39;49mgetaddrinfo(host, port, family, \u001b[39mtype\u001b[39;49m, proto, flags):\n\u001b[1;32m    955\u001b[0m     af, socktype, proto, canonname, sa \u001b[39m=\u001b[39m res\n",
            "\u001b[0;31mgaierror\u001b[0m: [Errno 8] nodename nor servname provided, or not known",
            "\nDuring handling of the above exception, another exception occurred:\n",
            "\u001b[0;31mURLError\u001b[0m                                  Traceback (most recent call last)",
            "File \u001b[0;32m~/miniconda/envs/tf/lib/python3.9/site-packages/keras/src/utils/data_utils.py:347\u001b[0m, in \u001b[0;36mget_file\u001b[0;34m(fname, origin, untar, md5_hash, file_hash, cache_subdir, hash_algorithm, extract, archive_format, cache_dir)\u001b[0m\n\u001b[1;32m    346\u001b[0m \u001b[39mtry\u001b[39;00m:\n\u001b[0;32m--> 347\u001b[0m     urlretrieve(origin, fpath, DLProgbar())\n\u001b[1;32m    348\u001b[0m \u001b[39mexcept\u001b[39;00m urllib\u001b[39m.\u001b[39merror\u001b[39m.\u001b[39mHTTPError \u001b[39mas\u001b[39;00m e:\n",
            "File \u001b[0;32m~/miniconda/envs/tf/lib/python3.9/site-packages/keras/src/utils/data_utils.py:85\u001b[0m, in \u001b[0;36murlretrieve\u001b[0;34m(url, filename, reporthook, data)\u001b[0m\n\u001b[1;32m     83\u001b[0m             \u001b[39mbreak\u001b[39;00m\n\u001b[0;32m---> 85\u001b[0m response \u001b[39m=\u001b[39m urlopen(url, data)\n\u001b[1;32m     86\u001b[0m \u001b[39mwith\u001b[39;00m \u001b[39mopen\u001b[39m(filename, \u001b[39m\"\u001b[39m\u001b[39mwb\u001b[39m\u001b[39m\"\u001b[39m) \u001b[39mas\u001b[39;00m fd:\n",
            "File \u001b[0;32m~/miniconda/envs/tf/lib/python3.9/urllib/request.py:214\u001b[0m, in \u001b[0;36murlopen\u001b[0;34m(url, data, timeout, cafile, capath, cadefault, context)\u001b[0m\n\u001b[1;32m    213\u001b[0m     opener \u001b[39m=\u001b[39m _opener\n\u001b[0;32m--> 214\u001b[0m \u001b[39mreturn\u001b[39;00m opener\u001b[39m.\u001b[39;49mopen(url, data, timeout)\n",
            "File \u001b[0;32m~/miniconda/envs/tf/lib/python3.9/urllib/request.py:517\u001b[0m, in \u001b[0;36mOpenerDirector.open\u001b[0;34m(self, fullurl, data, timeout)\u001b[0m\n\u001b[1;32m    516\u001b[0m sys\u001b[39m.\u001b[39maudit(\u001b[39m'\u001b[39m\u001b[39murllib.Request\u001b[39m\u001b[39m'\u001b[39m, req\u001b[39m.\u001b[39mfull_url, req\u001b[39m.\u001b[39mdata, req\u001b[39m.\u001b[39mheaders, req\u001b[39m.\u001b[39mget_method())\n\u001b[0;32m--> 517\u001b[0m response \u001b[39m=\u001b[39m \u001b[39mself\u001b[39;49m\u001b[39m.\u001b[39;49m_open(req, data)\n\u001b[1;32m    519\u001b[0m \u001b[39m# post-process response\u001b[39;00m\n",
            "File \u001b[0;32m~/miniconda/envs/tf/lib/python3.9/urllib/request.py:534\u001b[0m, in \u001b[0;36mOpenerDirector._open\u001b[0;34m(self, req, data)\u001b[0m\n\u001b[1;32m    533\u001b[0m protocol \u001b[39m=\u001b[39m req\u001b[39m.\u001b[39mtype\n\u001b[0;32m--> 534\u001b[0m result \u001b[39m=\u001b[39m \u001b[39mself\u001b[39;49m\u001b[39m.\u001b[39;49m_call_chain(\u001b[39mself\u001b[39;49m\u001b[39m.\u001b[39;49mhandle_open, protocol, protocol \u001b[39m+\u001b[39;49m\n\u001b[1;32m    535\u001b[0m                           \u001b[39m'\u001b[39;49m\u001b[39m_open\u001b[39;49m\u001b[39m'\u001b[39;49m, req)\n\u001b[1;32m    536\u001b[0m \u001b[39mif\u001b[39;00m result:\n",
            "File \u001b[0;32m~/miniconda/envs/tf/lib/python3.9/urllib/request.py:494\u001b[0m, in \u001b[0;36mOpenerDirector._call_chain\u001b[0;34m(self, chain, kind, meth_name, *args)\u001b[0m\n\u001b[1;32m    493\u001b[0m func \u001b[39m=\u001b[39m \u001b[39mgetattr\u001b[39m(handler, meth_name)\n\u001b[0;32m--> 494\u001b[0m result \u001b[39m=\u001b[39m func(\u001b[39m*\u001b[39;49margs)\n\u001b[1;32m    495\u001b[0m \u001b[39mif\u001b[39;00m result \u001b[39mis\u001b[39;00m \u001b[39mnot\u001b[39;00m \u001b[39mNone\u001b[39;00m:\n",
            "File \u001b[0;32m~/miniconda/envs/tf/lib/python3.9/urllib/request.py:1389\u001b[0m, in \u001b[0;36mHTTPSHandler.https_open\u001b[0;34m(self, req)\u001b[0m\n\u001b[1;32m   1388\u001b[0m \u001b[39mdef\u001b[39;00m \u001b[39mhttps_open\u001b[39m(\u001b[39mself\u001b[39m, req):\n\u001b[0;32m-> 1389\u001b[0m     \u001b[39mreturn\u001b[39;00m \u001b[39mself\u001b[39;49m\u001b[39m.\u001b[39;49mdo_open(http\u001b[39m.\u001b[39;49mclient\u001b[39m.\u001b[39;49mHTTPSConnection, req,\n\u001b[1;32m   1390\u001b[0m         context\u001b[39m=\u001b[39;49m\u001b[39mself\u001b[39;49m\u001b[39m.\u001b[39;49m_context, check_hostname\u001b[39m=\u001b[39;49m\u001b[39mself\u001b[39;49m\u001b[39m.\u001b[39;49m_check_hostname)\n",
            "File \u001b[0;32m~/miniconda/envs/tf/lib/python3.9/urllib/request.py:1349\u001b[0m, in \u001b[0;36mAbstractHTTPHandler.do_open\u001b[0;34m(self, http_class, req, **http_conn_args)\u001b[0m\n\u001b[1;32m   1348\u001b[0m \u001b[39mexcept\u001b[39;00m \u001b[39mOSError\u001b[39;00m \u001b[39mas\u001b[39;00m err: \u001b[39m# timeout error\u001b[39;00m\n\u001b[0;32m-> 1349\u001b[0m     \u001b[39mraise\u001b[39;00m URLError(err)\n\u001b[1;32m   1350\u001b[0m r \u001b[39m=\u001b[39m h\u001b[39m.\u001b[39mgetresponse()\n",
            "\u001b[0;31mURLError\u001b[0m: <urlopen error [Errno 8] nodename nor servname provided, or not known>",
            "\nDuring handling of the above exception, another exception occurred:\n",
            "\u001b[0;31mException\u001b[0m                                 Traceback (most recent call last)",
            "Cell \u001b[0;32mIn[60], line 56\u001b[0m\n\u001b[1;32m     54\u001b[0m \u001b[39mdef\u001b[39;00m \u001b[39mthreshold\u001b[39m(pred,thresh\u001b[39m=\u001b[39m\u001b[39m0.5\u001b[39m):\n\u001b[1;32m     55\u001b[0m   \u001b[39mreturn\u001b[39;00m pred\u001b[39m>\u001b[39mthresh\n\u001b[0;32m---> 56\u001b[0m word_index \u001b[39m=\u001b[39m imdb\u001b[39m.\u001b[39;49mget_word_index()\n\u001b[1;32m     57\u001b[0m index_from \u001b[39m=\u001b[39m \u001b[39m3\u001b[39m\n\u001b[1;32m     58\u001b[0m \u001b[39m# Reverse the word index to obtain a dict mapping indices to words\u001b[39;00m\n\u001b[1;32m     59\u001b[0m \u001b[39m# And add `index_from` to indices to sync with `x_train`\u001b[39;00m\n",
            "File \u001b[0;32m~/miniconda/envs/tf/lib/python3.9/site-packages/keras/src/datasets/imdb.py:211\u001b[0m, in \u001b[0;36mget_word_index\u001b[0;34m(path)\u001b[0m\n\u001b[1;32m    174\u001b[0m \u001b[39m\u001b[39m\u001b[39m\"\"\"Retrieves a dict mapping words to their index in the IMDB dataset.\u001b[39;00m\n\u001b[1;32m    175\u001b[0m \n\u001b[1;32m    176\u001b[0m \u001b[39mArgs:\u001b[39;00m\n\u001b[0;32m   (...)\u001b[0m\n\u001b[1;32m    206\u001b[0m \u001b[39m```\u001b[39;00m\n\u001b[1;32m    207\u001b[0m \u001b[39m\"\"\"\u001b[39;00m\n\u001b[1;32m    208\u001b[0m origin_folder \u001b[39m=\u001b[39m (\n\u001b[1;32m    209\u001b[0m     \u001b[39m\"\u001b[39m\u001b[39mhttps://storage.googleapis.com/tensorflow/tf-keras-datasets/\u001b[39m\u001b[39m\"\u001b[39m\n\u001b[1;32m    210\u001b[0m )\n\u001b[0;32m--> 211\u001b[0m path \u001b[39m=\u001b[39m get_file(\n\u001b[1;32m    212\u001b[0m     path,\n\u001b[1;32m    213\u001b[0m     origin\u001b[39m=\u001b[39;49morigin_folder \u001b[39m+\u001b[39;49m \u001b[39m\"\u001b[39;49m\u001b[39mimdb_word_index.json\u001b[39;49m\u001b[39m\"\u001b[39;49m,\n\u001b[1;32m    214\u001b[0m     file_hash\u001b[39m=\u001b[39;49m\u001b[39m\"\u001b[39;49m\u001b[39mbfafd718b763782e994055a2d397834f\u001b[39;49m\u001b[39m\"\u001b[39;49m,\n\u001b[1;32m    215\u001b[0m )\n\u001b[1;32m    216\u001b[0m \u001b[39mwith\u001b[39;00m \u001b[39mopen\u001b[39m(path) \u001b[39mas\u001b[39;00m f:\n\u001b[1;32m    217\u001b[0m     \u001b[39mreturn\u001b[39;00m json\u001b[39m.\u001b[39mload(f)\n",
            "File \u001b[0;32m~/miniconda/envs/tf/lib/python3.9/site-packages/keras/src/utils/data_utils.py:351\u001b[0m, in \u001b[0;36mget_file\u001b[0;34m(fname, origin, untar, md5_hash, file_hash, cache_subdir, hash_algorithm, extract, archive_format, cache_dir)\u001b[0m\n\u001b[1;32m    349\u001b[0m         \u001b[39mraise\u001b[39;00m \u001b[39mException\u001b[39;00m(error_msg\u001b[39m.\u001b[39mformat(origin, e\u001b[39m.\u001b[39mcode, e\u001b[39m.\u001b[39mmsg))\n\u001b[1;32m    350\u001b[0m     \u001b[39mexcept\u001b[39;00m urllib\u001b[39m.\u001b[39merror\u001b[39m.\u001b[39mURLError \u001b[39mas\u001b[39;00m e:\n\u001b[0;32m--> 351\u001b[0m         \u001b[39mraise\u001b[39;00m \u001b[39mException\u001b[39;00m(error_msg\u001b[39m.\u001b[39mformat(origin, e\u001b[39m.\u001b[39merrno, e\u001b[39m.\u001b[39mreason))\n\u001b[1;32m    352\u001b[0m \u001b[39mexcept\u001b[39;00m (\u001b[39mException\u001b[39;00m, \u001b[39mKeyboardInterrupt\u001b[39;00m):\n\u001b[1;32m    353\u001b[0m     \u001b[39mif\u001b[39;00m os\u001b[39m.\u001b[39mpath\u001b[39m.\u001b[39mexists(fpath):\n",
            "\u001b[0;31mException\u001b[0m: URL fetch failure on https://storage.googleapis.com/tensorflow/tf-keras-datasets/imdb_word_index.json: None -- [Errno 8] nodename nor servname provided, or not known"
          ]
        }
      ],
      "source": [
        "#!pip install tf-nightly\n",
        "# Import needed libraries\n",
        "import tensorflow as tf\n",
        "print('TensorFlow version:', tf.__version__)\n",
        "\n",
        "# from tensorflow import keras\n",
        "from tensorflow import keras\n",
        "from keras.models import Model, Sequential\n",
        "from keras.layers import BatchNormalization, Dropout, Activation, Add, LSTM, GRU, Dense,Input\n",
        "from keras.layers import Embedding, SimpleRNN\n",
        "from keras.utils  import to_categorical, plot_model, Sequence\n",
        "# Keras dataset imports\n",
        "from tensorflow.data import Dataset\n",
        "from keras.datasets import imdb\n",
        "from keras.preprocessing import sequence\n",
        "# Optimizers\n",
        "# Check if macos system\n",
        "from keras.optimizers import RMSprop, Adagrad, SGD\n",
        "\n",
        "# Callbacks\n",
        "from keras.callbacks import EarlyStopping, ReduceLROnPlateau, ModelCheckpoint\n",
        "from keras.models import load_model\n",
        "\n",
        "# print('Keras version:',tf.keras.__version__)\n",
        "\n",
        "# Matlab plotting\n",
        "import matplotlib\n",
        "import matplotlib.pyplot as plt\n",
        "\n",
        "# Helper libraries\n",
        "import os\n",
        "import datetime\n",
        "\n",
        "import numpy as np\n",
        "import pandas as pd\n",
        "import sklearn\n",
        "from sklearn.model_selection import train_test_split\n",
        "\n",
        "import IPython\n",
        "import IPython.display\n",
        "import seaborn as sns\n",
        "# Typing imports for type hints / readability\n",
        "from typing import Tuple, List, Dict, Any, Union\n",
        "# NOTE: Fix the seed for reproducability\n",
        "import os\n",
        "import sys\n",
        "np.random.seed(0)\n",
        "tf.random.set_seed(0)\n",
        "SENTIMENT = {\n",
        "    1:\"POSITIVE\",\n",
        "    0:\"NEGATIVE\"\n",
        "}\n",
        "batch_size = 128\n",
        "def threshold(pred,thresh=0.5):\n",
        "  return pred>thresh\n",
        "word_index = imdb.get_word_index()\n",
        "index_from = 3\n",
        "# Reverse the word index to obtain a dict mapping indices to words\n",
        "# And add `index_from` to indices to sync with `x_train`\n",
        "inverted_word_index = dict(\n",
        "    (i + index_from, word) for (word, i) in word_index.items()\n",
        ")\n",
        "# def translate(x:np.ndarray):\n",
        "  "
      ]
    },
    {
      "cell_type": "code",
      "execution_count": 47,
      "metadata": {
        "colab": {
          "base_uri": "https://localhost:8080/"
        },
        "id": "FJ3siYoUM3yi",
        "outputId": "4cf6f10a-c9a6-45df-ff73-d01729da07f6"
      },
      "outputs": [
        {
          "name": "stdout",
          "output_type": "stream",
          "text": [
            "zsh:1: command not found: nvidia-smi\n"
          ]
        }
      ],
      "source": [
        "# Test for GPU and determine what GPU we have\n",
        "gpu_devices = tf.config.list_physical_devices('GPU')\n",
        "\n",
        "if not gpu_devices:\n",
        "    print(\"No GPU was detected. Neural nets can be very slow without a GPU.\")\n",
        "    if \"google.colab\" in sys.modules:\n",
        "        print(\"Go to Runtime > Change runtime and select a GPU hardware \"\n",
        "              \"accelerator.\")\n",
        "    if \"kaggle_secrets\" in sys.modules:\n",
        "        print(\"Go to Settings > Accelerator and select GPU.\")\n",
        "else:\n",
        "  !nvidia-smi -L\n",
        "\n",
        "# If possible to run code wiht 16 bits float instad of 32 bits float, this code acitvates such functionality:\n",
        "if gpu_devices:\n",
        " details = tf.config.experimental.get_device_details(gpu_devices[0])\n",
        "#  compute_capability=details.get('compute_capability')\n",
        "#  print(\"Compute capability:\",compute_capability)\n",
        "#  if compute_capability[0]>6:\n",
        "#    print(\"Turning on mixed_float16\")\n",
        "#    policy = tf.keras.mixed_precision.Policy('mixed_float16')\n",
        "#    tf.keras.mixed_precision.set_global_policy(policy)"
      ]
    },
    {
      "cell_type": "markdown",
      "metadata": {
        "id": "fPhdbbhTJp68"
      },
      "source": [
        "# Part a) Understanding Embeddings\n",
        "In the first part of the lab we shall get a deeper understanding of what the word embeddings are and how they can be used to represent language. To do this I'll use the [GenSim](https://radimrehurek.com/gensim/) moodel to generate a 300 dimensional representation of a word."
      ]
    },
    {
      "cell_type": "code",
      "execution_count": 48,
      "metadata": {
        "colab": {
          "base_uri": "https://localhost:8080/",
          "height": 341
        },
        "id": "ghb0SI22DflF",
        "outputId": "e7ccbb12-4193-4c6d-bd7f-a230b52b1d63"
      },
      "outputs": [],
      "source": [
        "import gensim.downloader as api\n",
        "from gensim.models import KeyedVectors\n",
        "if not os.path.exists(\"mywordvecs.kvmodel\"):\n",
        "    wv = api.load('word2vec-google-news-300')\n",
        "else:\n",
        "    wv = KeyedVectors.load(\"mywordvecs.kvmodel\", mmap='r')\n",
        "# wv.save(\"mywordvecs.kvmodel\")\n",
        "\n",
        "\n"
      ]
    },
    {
      "cell_type": "code",
      "execution_count": 49,
      "metadata": {
        "id": "Ahme4TrEWph4"
      },
      "outputs": [
        {
          "name": "stdout",
          "output_type": "stream",
          "text": [
            "The embedding shape of a word using GenSim: (300,)\n"
          ]
        }
      ],
      "source": [
        "vec = wv[\"hello\"]\n",
        "emb_shape = vec.shape\n",
        "emb_dims = emb_shape[-1]\n",
        "print(f\"The embedding shape of a word using GenSim: {emb_shape}\")"
      ]
    },
    {
      "cell_type": "markdown",
      "metadata": {
        "id": "UxkKynaxF7Sc"
      },
      "source": [
        "## Similarities\n",
        "Experimenting with the similarites of different words.\n"
      ]
    },
    {
      "cell_type": "code",
      "execution_count": 50,
      "metadata": {
        "id": "N7-SZHpLEvDA"
      },
      "outputs": [
        {
          "name": "stdout",
          "output_type": "stream",
          "text": [
            "Similarity\n",
            "  'father' - 'mother' 0.790\n",
            "  'father' - 'man' 0.420\n",
            "  'father' - 'woman' 0.377\n",
            "  'father' - 'orange' 0.047\n",
            "  'father' - 'pink' 0.024\n",
            "  'father' - 'blue' 0.073\n",
            "  'father' - 'stupid' 0.133\n",
            "  'father' - 'smart' 0.059\n",
            "  'father' - 'gullible' 0.048\n",
            "  'father' - 'sports' 0.083\n",
            "  'father' - 'makeup' 0.003\n",
            "  'father' - 'fish' 0.081\n",
            "  'father' - 'table' 0.010\n",
            "\n",
            "\n",
            "  'mother' - 'man' 0.403\n",
            "  'mother' - 'woman' 0.608\n",
            "  'mother' - 'orange' 0.083\n",
            "  'mother' - 'pink' 0.179\n",
            "  'mother' - 'blue' 0.104\n",
            "  'mother' - 'stupid' 0.147\n",
            "  'mother' - 'smart' 0.042\n",
            "  'mother' - 'gullible' 0.054\n",
            "  'mother' - 'sports' -0.000\n",
            "  'mother' - 'makeup' 0.055\n",
            "  'mother' - 'fish' 0.107\n",
            "  'mother' - 'table' 0.042\n",
            "\n",
            "\n",
            "  'man' - 'woman' 0.766\n",
            "  'man' - 'orange' 0.100\n",
            "  'man' - 'pink' 0.063\n",
            "  'man' - 'blue' 0.211\n",
            "  'man' - 'stupid' 0.212\n",
            "  'man' - 'smart' 0.092\n",
            "  'man' - 'gullible' 0.119\n",
            "  'man' - 'sports' 0.083\n",
            "  'man' - 'makeup' 0.052\n",
            "  'man' - 'fish' 0.151\n",
            "  'man' - 'table' 0.049\n",
            "\n",
            "\n",
            "  'woman' - 'orange' 0.069\n",
            "  'woman' - 'pink' 0.190\n",
            "  'woman' - 'blue' 0.149\n",
            "  'woman' - 'stupid' 0.144\n",
            "  'woman' - 'smart' 0.050\n",
            "  'woman' - 'gullible' 0.103\n",
            "  'woman' - 'sports' 0.042\n",
            "  'woman' - 'makeup' 0.122\n",
            "  'woman' - 'fish' 0.085\n",
            "  'woman' - 'table' 0.054\n",
            "\n",
            "\n",
            "  'orange' - 'pink' 0.603\n",
            "  'orange' - 'blue' 0.642\n",
            "  'orange' - 'stupid' 0.101\n",
            "  'orange' - 'smart' 0.076\n",
            "  'orange' - 'gullible' 0.011\n",
            "  'orange' - 'sports' 0.118\n",
            "  'orange' - 'makeup' 0.153\n",
            "  'orange' - 'fish' 0.122\n",
            "  'orange' - 'table' 0.040\n",
            "\n",
            "\n",
            "  'pink' - 'blue' 0.634\n",
            "  'pink' - 'stupid' 0.169\n",
            "  'pink' - 'smart' 0.149\n",
            "  'pink' - 'gullible' 0.083\n",
            "  'pink' - 'sports' 0.075\n",
            "  'pink' - 'makeup' 0.284\n",
            "  'pink' - 'fish' 0.107\n",
            "  'pink' - 'table' 0.101\n",
            "\n",
            "\n",
            "  'blue' - 'stupid' 0.148\n",
            "  'blue' - 'smart' 0.098\n",
            "  'blue' - 'gullible' 0.046\n",
            "  'blue' - 'sports' 0.128\n",
            "  'blue' - 'makeup' 0.219\n",
            "  'blue' - 'fish' 0.095\n",
            "  'blue' - 'table' 0.030\n",
            "\n",
            "\n",
            "  'stupid' - 'smart' 0.470\n",
            "  'stupid' - 'gullible' 0.457\n",
            "  'stupid' - 'sports' 0.099\n",
            "  'stupid' - 'makeup' 0.093\n",
            "  'stupid' - 'fish' 0.067\n",
            "  'stupid' - 'table' 0.075\n",
            "\n",
            "\n",
            "  'smart' - 'gullible' 0.319\n",
            "  'smart' - 'sports' 0.139\n",
            "  'smart' - 'makeup' 0.092\n",
            "  'smart' - 'fish' 0.030\n",
            "  'smart' - 'table' 0.121\n",
            "\n",
            "\n",
            "  'gullible' - 'sports' 0.079\n",
            "  'gullible' - 'makeup' -0.020\n",
            "  'gullible' - 'fish' 0.141\n",
            "  'gullible' - 'table' 0.031\n",
            "\n",
            "\n",
            "  'sports' - 'makeup' 0.113\n",
            "  'sports' - 'fish' 0.078\n",
            "  'sports' - 'table' 0.058\n",
            "\n",
            "\n",
            "  'makeup' - 'fish' 0.034\n",
            "  'makeup' - 'table' 0.074\n",
            "\n",
            "\n",
            "  'fish' - 'table' 0.138\n",
            "\n",
            "\n",
            "\n",
            "\n"
          ]
        }
      ],
      "source": [
        "ws = ['father',\n",
        "      'mother',\n",
        "      'man',\n",
        "      'woman',\n",
        "      'orange',\n",
        "      'pink',\n",
        "      'blue',\n",
        "      'stupid',\n",
        "      'smart',\n",
        "      'gullible',\n",
        "      'sports',\n",
        "      'makeup',\n",
        "      'fish',\n",
        "      'table']\n",
        "print(\"Similarity\")\n",
        "for i,w1 in enumerate(ws):\n",
        "  for w2 in ws[i+1:]:\n",
        "    print(f\"{' '*2}\\'{w1}\\' - \\'{w2}\\' {wv.similarity(w1,w2):3.3f}\")\n",
        "  print(\"\\n\")"
      ]
    },
    {
      "cell_type": "markdown",
      "metadata": {
        "id": "26uG5_tjJY6h"
      },
      "source": [
        "### Similarity Analysis\n",
        "We can see that the some words we expect to be similar such as; \"Man\" - \"Father\", \"Woman\" - \"Mother\" & \"Blue\" - \"Pink\" - \"Orange\". Are similar according to the their vector representation. We also see that distant words such as; \"Orange\" - \"Gullible\", \"Sports\" - \"Fish\" & \"Man\" - \"Table\" are dissimilar.\n",
        "\n",
        "## Similarity correlations\n",
        "We shall explore some ways to move around in the vector space. This can be done easily using the most similar to the result of the following operations:\n",
        "Let $\\vec{A}, \\vec{B} \\; \\& \\; \\vec{C}$ be vector embeddings of three different words A, B & C. Then a new words D with embedding $\\vec D$ may be found as the most similar vector embedding from the following operation.\n",
        "\n",
        "$$ \\vec{A}+(\\vec{B}-\\vec{C}) ≈ \\vec{D}$$\n",
        "\n",
        "We shall select B and C such that we may predict the word D in advance to see if the model behaves as we expect it to.\n",
        "This can be seen as a optimization problem of the following structure:\n",
        "\n",
        "$$ \\min_{j\\in[1,2,..,N]} \\left|\\left| \\vec{A}+(\\vec{B}-\\vec{C})-\\vec{D_j}\\right|\\right|$$\n",
        "\n",
        "Where $\\vec{D_j}$ is the embedding of entry $j$ of the models vocabulary.\n",
        "During this laboration we tested the following simple yet showing example.\n",
        "\n",
        "| Index | Selection | Description |\n",
        "|---|---|---|\n",
        "| A | Sweden | Country of Sweden|\n",
        "| B | Paris | Capital of the country France|\n",
        "| C | France | Country of France|\n",
        "| $\\hat{\\text{D}}$ | Stockholm | The expected result should be the capital of Sweden |\n",
        "\n",
        "The mathematical interpertation of this operation would be that we take a step of $\\vec{B}-\\vec{C}$ in vector space from $\\vec A$ in our case the difference between 'Paris' and 'France' would be that of the meaning of 'Capital'. Adding this to A, our staring point 'Sweden', one would expect the resutling word to be 'Stockholm'.\n",
        "\n",
        "Using the `most_similar` function of the **GenSim** model. Along with keyowrd `positive` for A and B and `negative` for C. Which resulted in the following:\n",
        "\n",
        "\n",
        "\n",
        "\n",
        "\n"
      ]
    },
    {
      "cell_type": "code",
      "execution_count": 51,
      "metadata": {
        "colab": {
          "base_uri": "https://localhost:8080/"
        },
        "id": "YTE3YxArPV-L",
        "outputId": "75733210-5607-4d2d-fd74-3448b0ad85aa"
      },
      "outputs": [
        {
          "name": "stdout",
          "output_type": "stream",
          "text": [
            "[('Stockholm', 0.7852394580841064), ('Stockholm_Sweden', 0.6674871444702148)]\n"
          ]
        }
      ],
      "source": [
        "print(wv.most_similar(positive=['Sweden', 'Paris'], negative=['France'],topn=2))"
      ]
    },
    {
      "cell_type": "markdown",
      "metadata": {
        "id": "8XssihFYjVoP"
      },
      "source": [
        "As we expected we recieved the capital of Sweden."
      ]
    },
    {
      "cell_type": "markdown",
      "metadata": {
        "id": "jCBqqxegHo9c"
      },
      "source": [
        "# Understanding recurrent neural networks\n",
        "\n",
        "This notebook contains the code samples found in Chapter 6, Section 2 of [Deep Learning with Python](https://www.manning.com/books/deep-learning-with-python?a_aid=keras&a_bid=76564dff). Note that the original text features far more content, in particular further explanations and figures: in this notebook, you will only find source code and related comments.\n",
        "\n",
        "---\n",
        "\n",
        "[...]\n",
        "\n",
        "## A first recurrent layer in Keras\n",
        "\n",
        "The process we just naively implemented in Numpy corresponds to an actual Keras layer: the `SimpleRNN` layer:\n"
      ]
    },
    {
      "cell_type": "code",
      "execution_count": 52,
      "metadata": {
        "collapsed": true,
        "id": "Nqc9gASOHo9d"
      },
      "outputs": [],
      "source": [
        "from keras.layers import SimpleRNN"
      ]
    },
    {
      "cell_type": "markdown",
      "metadata": {
        "id": "e3ALBVojHo9d"
      },
      "source": [
        "There is just one minor difference: `SimpleRNN` processes batches of sequences, like all other Keras layers, not just a single sequence like \n",
        "in our Numpy example. This means that it takes inputs of shape `(batch_size, timesteps, input_features)`, rather than `(timesteps, \n",
        "input_features)`.\n",
        "\n",
        "Like all recurrent layers in Keras, `SimpleRNN` can be run in two different modes: it can return either the full sequences of successive \n",
        "outputs for each timestep (a 3D tensor of shape `(batch_size, timesteps, output_features)`), or it can return only the last output for each \n",
        "input sequence (a 2D tensor of shape `(batch_size, output_features)`). These two modes are controlled by the `return_sequences` constructor \n",
        "argument. Let's take a look at an example:"
      ]
    },
    {
      "cell_type": "code",
      "execution_count": 53,
      "metadata": {
        "id": "8tfIyb4npeo-"
      },
      "outputs": [],
      "source": [
        "# Using inspiration  from https://github.com/RaRe-Technologies/gensim/wiki/Using-Gensim-Embeddings-with-Keras-and-Tensorflow \n",
        "# To easily convert the GenSim.KeyedVectors into a keras Embedding layer\n",
        "# To test the use of a pretrained embedding layer.\n",
        "\n",
        "def gensim_to_keras_embedding(keyed_vectors, train_embeddings=False):\n",
        "    \"\"\"Get a Keras 'Embedding' layer with weights set from Word2Vec model's learned word embeddings.\n",
        "\n",
        "    Parameters\n",
        "    ----------\n",
        "    train_embeddings : bool\n",
        "        If False, the returned weights are frozen and stopped from being updated.\n",
        "        If True, the weights can / will be further updated in Keras.\n",
        "\n",
        "    Returns\n",
        "    -------\n",
        "    `keras.layers.Embedding`\n",
        "        Embedding layer, to be used as input to deeper network layers.\n",
        "\n",
        "    \"\"\"\n",
        "    weights = keyed_vectors.vectors  # vectors themselves, a 2D numpy array    \n",
        "    index_to_key = keyed_vectors.index_to_key  # which row in `weights` corresponds to which word?\n",
        "\n",
        "    layer = Embedding(\n",
        "        input_dim=weights.shape[0],\n",
        "        output_dim=weights.shape[1],\n",
        "        weights=[weights],\n",
        "        trainable=train_embeddings,\n",
        "    )\n",
        "    return layer"
      ]
    },
    {
      "cell_type": "code",
      "execution_count": 54,
      "metadata": {
        "colab": {
          "base_uri": "https://localhost:8080/"
        },
        "id": "bTNRkI45Ho9e",
        "outputId": "a9576474-5249-4324-af0c-711068d2d0d6"
      },
      "outputs": [
        {
          "name": "stdout",
          "output_type": "stream",
          "text": [
            "Model: \"sequential_2\"\n",
            "_________________________________________________________________\n",
            " Layer (type)                Output Shape              Param #   \n",
            "=================================================================\n",
            " embedding_2 (Embedding)     (None, None, 32)          320000    \n",
            "                                                                 \n",
            " simple_rnn_2 (SimpleRNN)    (None, 32)                2080      \n",
            "                                                                 \n",
            "=================================================================\n",
            "Total params: 322080 (1.23 MB)\n",
            "Trainable params: 322080 (1.23 MB)\n",
            "Non-trainable params: 0 (0.00 Byte)\n",
            "_________________________________________________________________\n"
          ]
        }
      ],
      "source": [
        "model = Sequential()\n",
        "model.add(Embedding(10000, 32))\n",
        "model.add(SimpleRNN(32))\n",
        "model.summary()"
      ]
    },
    {
      "cell_type": "code",
      "execution_count": 55,
      "metadata": {
        "colab": {
          "base_uri": "https://localhost:8080/"
        },
        "id": "--cKMFnDHo9e",
        "outputId": "431e2fd7-37d5-46d8-a84f-0408f625d6b4"
      },
      "outputs": [
        {
          "name": "stdout",
          "output_type": "stream",
          "text": [
            "Model: \"sequential_3\"\n",
            "_________________________________________________________________\n",
            " Layer (type)                Output Shape              Param #   \n",
            "=================================================================\n",
            " embedding_3 (Embedding)     (None, None, 32)          320000    \n",
            "                                                                 \n",
            " simple_rnn_3 (SimpleRNN)    (None, None, 32)          2080      \n",
            "                                                                 \n",
            "=================================================================\n",
            "Total params: 322080 (1.23 MB)\n",
            "Trainable params: 322080 (1.23 MB)\n",
            "Non-trainable params: 0 (0.00 Byte)\n",
            "_________________________________________________________________\n"
          ]
        }
      ],
      "source": [
        "model = Sequential()\n",
        "model.add(Embedding(10000, 32))\n",
        "model.add(SimpleRNN(32, return_sequences=True))\n",
        "model.summary()"
      ]
    },
    {
      "cell_type": "markdown",
      "metadata": {
        "id": "O4HzFuAYHo9f"
      },
      "source": [
        "It is sometimes useful to stack several recurrent layers one after the other in order to increase the representational power of a network. \n",
        "In such a setup, you have to get all intermediate layers to return full sequences:"
      ]
    },
    {
      "cell_type": "code",
      "execution_count": 56,
      "metadata": {
        "colab": {
          "base_uri": "https://localhost:8080/"
        },
        "id": "AsbyFeiAHo9f",
        "outputId": "ab460b29-8071-47e1-c9ae-93774dbc8aed"
      },
      "outputs": [
        {
          "name": "stdout",
          "output_type": "stream",
          "text": [
            "Model: \"sequential_4\"\n",
            "_________________________________________________________________\n",
            " Layer (type)                Output Shape              Param #   \n",
            "=================================================================\n",
            " embedding_4 (Embedding)     (None, None, 32)          320000    \n",
            "                                                                 \n",
            " simple_rnn_4 (SimpleRNN)    (None, None, 32)          2080      \n",
            "                                                                 \n",
            " simple_rnn_5 (SimpleRNN)    (None, None, 32)          2080      \n",
            "                                                                 \n",
            " simple_rnn_6 (SimpleRNN)    (None, None, 32)          2080      \n",
            "                                                                 \n",
            " simple_rnn_7 (SimpleRNN)    (None, 32)                2080      \n",
            "                                                                 \n",
            "=================================================================\n",
            "Total params: 328320 (1.25 MB)\n",
            "Trainable params: 328320 (1.25 MB)\n",
            "Non-trainable params: 0 (0.00 Byte)\n",
            "_________________________________________________________________\n"
          ]
        }
      ],
      "source": [
        "model = Sequential()\n",
        "model.add(Embedding(10000, 32))\n",
        "model.add(SimpleRNN(32, return_sequences=True))\n",
        "model.add(SimpleRNN(32, return_sequences=True))\n",
        "model.add(SimpleRNN(32, return_sequences=True))\n",
        "model.add(SimpleRNN(32))  # This last layer only returns the last outputs.\n",
        "model.summary()"
      ]
    },
    {
      "cell_type": "markdown",
      "metadata": {
        "id": "_q64qzvtHo9f"
      },
      "source": [
        "Now let's try to use such a model on the IMDB movie review classification problem. First, let's preprocess the data:"
      ]
    },
    {
      "cell_type": "code",
      "execution_count": 58,
      "metadata": {
        "colab": {
          "base_uri": "https://localhost:8080/"
        },
        "id": "6b4cNdCPHo9f",
        "outputId": "ee8c64b7-19c0-4a75-a1fb-5a935b9dedf0"
      },
      "outputs": [
        {
          "name": "stdout",
          "output_type": "stream",
          "text": [
            "Loading data...\n",
            "25000 train sequences\n",
            "25000 test sequences\n",
            "Pad sequences (samples x time)\n",
            "input_train shape: (25000, 500)\n",
            "input_test shape: (25000, 500)\n"
          ]
        }
      ],
      "source": [
        "max_features = 10000  # number of words to consider as features\n",
        "maxlen = 500  # cut texts after this number of words (among top max_features most common words)\n",
        "batch_size = 32\n",
        "\n",
        "print('Loading data...')\n",
        "(input_train, y_train), (input_test, y_test) = imdb.load_data(num_words=max_features)\n",
        "print(len(input_train), 'train sequences')\n",
        "print(len(input_test), 'test sequences')\n",
        "\n",
        "print('Pad sequences (samples x time)')\n",
        "input_train = sequence.pad_sequences(input_train, maxlen=maxlen)\n",
        "input_test = sequence.pad_sequences(input_test, maxlen=maxlen)\n",
        "print('input_train shape:', input_train.shape)\n",
        "print('input_test shape:', input_test.shape)\n",
        "# Create datasets instead\n",
        "train_ds = Dataset.from_tensor_slices((input_train,y_train))\n",
        "test_ds = Dataset.from_tensor_slices((input_test,y_test))\n",
        "\n"
      ]
    },
    {
      "cell_type": "markdown",
      "metadata": {
        "id": "w_oSWFCAHo9g"
      },
      "source": [
        "Let's train a simple recurrent network using an `Embedding` layer and a `SimpleRNN` layer:"
      ]
    },
    {
      "cell_type": "code",
      "execution_count": 59,
      "metadata": {
        "id": "rXEbj4_gu0ga"
      },
      "outputs": [
        {
          "name": "stdout",
          "output_type": "stream",
          "text": [
            "Model test predictions\n",
            "INPUT - LABEL - PREDICTION\n",
            "1/1 [==============================] - 67s 67s/step\n"
          ]
        },
        {
          "ename": "UnboundLocalError",
          "evalue": "local variable 'pred' referenced before assignment",
          "output_type": "error",
          "traceback": [
            "\u001b[0;31m---------------------------------------------------------------------------\u001b[0m",
            "\u001b[0;31mUnboundLocalError\u001b[0m                         Traceback (most recent call last)",
            "Cell \u001b[0;32mIn[59], line 11\u001b[0m\n\u001b[1;32m      9\u001b[0m     y \u001b[39m=\u001b[39m SENTIMENT(y)\n\u001b[1;32m     10\u001b[0m     \u001b[39mprint\u001b[39m(\u001b[39mf\u001b[39m\u001b[39m\"\u001b[39m\u001b[39m{\u001b[39;00m\u001b[39m'\u001b[39m\u001b[39m \u001b[39m\u001b[39m'\u001b[39m\u001b[39m*\u001b[39m\u001b[39m3\u001b[39m\u001b[39m}\u001b[39;00m\u001b[39m\\'\u001b[39;00m\u001b[39m{\u001b[39;00mx\u001b[39m}\u001b[39;00m\u001b[39m\\'\u001b[39;00m\u001b[39m - \u001b[39m\u001b[39m{\u001b[39;00my\u001b[39m}\u001b[39;00m\u001b[39m - \u001b[39m\u001b[39m{\u001b[39;00mpred\u001b[39m}\u001b[39;00m\u001b[39m\"\u001b[39m)\n\u001b[0;32m---> 11\u001b[0m show_predictions(model,test_ds)\n",
            "Cell \u001b[0;32mIn[59], line 7\u001b[0m, in \u001b[0;36mshow_predictions\u001b[0;34m(model, test_ds, n)\u001b[0m\n\u001b[1;32m      5\u001b[0m x \u001b[39m=\u001b[39m x \u001b[39mif\u001b[39;00m \u001b[39mlen\u001b[39m(x\u001b[39m.\u001b[39mshape) \u001b[39m>\u001b[39m\u001b[39m=\u001b[39m \u001b[39m2\u001b[39m \u001b[39melse\u001b[39;00m np\u001b[39m.\u001b[39mexpand_dims(x,axis\u001b[39m=\u001b[39m\u001b[39m0\u001b[39m)\n\u001b[1;32m      6\u001b[0m model\u001b[39m.\u001b[39mpredict(x)\n\u001b[0;32m----> 7\u001b[0m pred \u001b[39m=\u001b[39m threshold(pred)\n\u001b[1;32m      8\u001b[0m pred \u001b[39m=\u001b[39m SENTIMENT(pred)\n\u001b[1;32m      9\u001b[0m y \u001b[39m=\u001b[39m SENTIMENT(y)\n",
            "\u001b[0;31mUnboundLocalError\u001b[0m: local variable 'pred' referenced before assignment"
          ]
        }
      ],
      "source": [
        "def show_predictions(model:Model,test_ds:Dataset,n=6):\n",
        "  print(f\"Model test predictions\")\n",
        "  print(f\"INPUT - LABEL - PREDICTION\")\n",
        "  for (x,y) in test_ds.take(n):\n",
        "    x = x if len(x.shape) >= 2 else np.expand_dims(x,axis=0)\n",
        "    pred = model.predict(x)\n",
        "    pred = threshold(pred)\n",
        "    pred = SENTIMENT(pred)\n",
        "    y = SENTIMENT(y)\n",
        "    \n",
        "    print(f\"{' '*3}\\'{x}\\' - {y} - {pred}\")\n",
        "show_predictions(model,test_ds,1)\n",
        "\n"
      ]
    },
    {
      "cell_type": "code",
      "execution_count": null,
      "metadata": {
        "id": "4DnIbxCMgMDz"
      },
      "outputs": [],
      "source": [
        "def compile_and_fit(model:Model, train_ds,patience=3,epochs:int=10):\n",
        "    loss_func = tf.losses.BinaryCrossEntropy()\n",
        "    optimizer = tf.optimizers.legacy.Adam(learning_rate=0.001)\n",
        "    early_stopping = EarlyStopping(monitor='val_loss',\n",
        "                                                      patience=patience,\n",
        "                                                      mode='min',\n",
        "                                                      restore_best_weights = True)\n",
        "    reduce_lr = ReduceLROnPlateau(monitor='val_loss', factor=0.2, patience=2, min_lr=1e-6) \n",
        "    callbacks = [early_stopping,reduce_lr]\n",
        "    model.compile(loss=loss_func,\n",
        "                  optimizer=optimizer,\n",
        "                  metrics=[\"accuracy\"])\n",
        "\n",
        "    history = model.fit(train_ds, epochs=epochs,\n",
        "                        validation_split=0.2,\n",
        "                        callbacks=callbacks)\n",
        "    return history, model\n",
        "\n",
        "def fit_and_evaluate_model(model:Model,train_ds,test_ds,patience=3,shift:int=1,epochs:int=10):\n",
        "    history, model = compile_and_fit(model,train_ds=train_ds,patience=patience)\n",
        "    test_loss, test_acc = model.evaluate(test_ds, verbose=0)\n",
        "    print('Test loss: %.3f' % test_loss)\n",
        "    print('Test accuracy: %.3f' % test_acc)\n",
        "    # Plot the training curves\n",
        "    pd.DataFrame(history.history).plot(figsize=(8,5))\n",
        "    plt.show()\n",
        "    show_predictions(model=model,data=test_ds,n=6)\n",
        "    return history, model, test_loss, test_acc\n"
      ]
    },
    {
      "cell_type": "code",
      "execution_count": 32,
      "metadata": {
        "colab": {
          "base_uri": "https://localhost:8080/"
        },
        "id": "TldzJ1DVHo9g",
        "outputId": "e28a6123-ce48-4a62-8a25-0f209d39578a"
      },
      "outputs": [],
      "source": [
        "\n",
        "model = Sequential()\n",
        "model.add(Embedding(max_features, 32))\n",
        "model.add(SimpleRNN(32))\n",
        "model.add(Dense(1, activation='sigmoid'))\n",
        "\n",
        "model.compile(optimizer='rmsprop', loss='binary_crossentropy', metrics=['acc'])\n",
        "# history_SimpleRNN = model.fit(input_train, y_train,\n",
        "#                     epochs=10,\n",
        "#                     batch_size=128,\n",
        "#                     validation_split=0.2,\n",
        "#                     callbacks=callbacks)"
      ]
    },
    {
      "cell_type": "code",
      "execution_count": null,
      "metadata": {
        "id": "Vlr2g-7AsU4F"
      },
      "outputs": [],
      "source": [
        "def plot_history(history):\n",
        "  # Plot the history trainig and validation history.\n",
        "  # This includes the metrics and the loss.\n",
        "  acc = history.history['acc']\n",
        "  val_acc = history.history['val_acc']\n",
        "  loss = history.history['loss']\n",
        "  val_loss = history.history['val_loss']\n",
        "\n",
        "  epochs = range(len(acc))\n",
        "\n",
        "  plt.plot(epochs, acc, 'bo', label='Training acc')\n",
        "  plt.plot(epochs, val_acc, 'b', label='Validation acc')\n",
        "  plt.title('Training and validation accuracy')\n",
        "  plt.legend()\n",
        "\n",
        "  plt.figure()\n",
        "\n",
        "  plt.plot(epochs, loss, 'bo', label='Training loss')\n",
        "  plt.plot(epochs, val_loss, 'b', label='Validation loss')\n",
        "  plt.title('Training and validation loss')\n",
        "  plt.legend()\n",
        "\n",
        "  plt.show()"
      ]
    },
    {
      "cell_type": "markdown",
      "metadata": {
        "id": "SOtZE_i9Ho9g"
      },
      "source": [
        "Let's display the training and validation loss and accuracy:"
      ]
    },
    {
      "cell_type": "code",
      "execution_count": null,
      "metadata": {
        "colab": {
          "base_uri": "https://localhost:8080/",
          "height": 887
        },
        "id": "AWf5eWq1Ho9g",
        "outputId": "7df68552-965a-4cfe-c0c3-717467271196"
      },
      "outputs": [
        {
          "data": {
            "image/png": "[encoded data removed]",
            "text/plain": [
              "<Figure size 640x480 with 1 Axes>"
            ]
          },
          "metadata": {},
          "output_type": "display_data"
        },
        {
          "data": {
            "image/png": "[encoded data removed]",
            "text/plain": [
              "<Figure size 640x480 with 1 Axes>"
            ]
          },
          "metadata": {},
          "output_type": "display_data"
        }
      ],
      "source": [
        "plot_history(history_SimpleRNN)"
      ]
    },
    {
      "cell_type": "markdown",
      "metadata": {
        "id": "Q9s1ga5YHo9h"
      },
      "source": [
        "As a reminder, in chapter 3, our very first naive approach to this very dataset got us to 88% test accuracy. Unfortunately, our small \n",
        "recurrent network doesn't perform very well at all compared to this baseline (only up to 85% validation accuracy). Part of the problem is \n",
        "that our inputs only consider the first 500 words rather the full sequences -- \n",
        "hence our RNN has access to less information than our earlier baseline model. The remainder of the problem is simply that `SimpleRNN` isn't very good at processing long sequences, like text. Other types of recurrent layers perform much better. Let's take a look at some \n",
        "more advanced layers."
      ]
    },
    {
      "cell_type": "markdown",
      "metadata": {
        "id": "kbgjTzdGHo9h"
      },
      "source": [
        "[...]\n",
        "\n",
        "## A concrete LSTM example in Keras\n",
        "\n",
        "Now let's switch to more practical concerns: we will set up a model using a LSTM layer and train it on the IMDB data. Here's the network, \n",
        "similar to the one with `SimpleRNN` that we just presented. We only specify the output dimensionality of the LSTM layer, and leave every \n",
        "other argument (there are lots) to the Keras defaults. Keras has good defaults, and things will almost always \"just work\" without you \n",
        "having to spend time tuning parameters by hand."
      ]
    },
    {
      "cell_type": "code",
      "execution_count": null,
      "metadata": {
        "id": "QdpfZvnlHo9h"
      },
      "outputs": [],
      "source": [
        "from keras.layers import LSTM\n",
        "\n",
        "model = Sequential()\n",
        "model.add(Embedding(max_features, 32))\n",
        "model.add(LSTM(32))\n",
        "model.add(Dense(1, activation='sigmoid'))\n",
        "\n",
        "model.compile(optimizer='rmsprop',\n",
        "              loss='binary_crossentropy',\n",
        "              metrics=['acc'])\n",
        "history_LSTM = model.fit(input_train, y_train,\n",
        "                    epochs=10,\n",
        "                    batch_size=128,\n",
        "                    validation_split=0.2)"
      ]
    },
    {
      "cell_type": "code",
      "execution_count": null,
      "metadata": {
        "id": "OXbKwT9OHo9i"
      },
      "outputs": [],
      "source": [
        "plot_history(history_LSTM)"
      ]
    },
    {
      "cell_type": "code",
      "execution_count": null,
      "metadata": {
        "id": "uZcHER20sQkM"
      },
      "outputs": [],
      "source": []
    }
  ],
  "metadata": {
    "accelerator": "GPU",
    "colab": {
      "gpuType": "T4",
      "provenance": [],
      "toc_visible": true
    },
    "gpuClass": "standard",
    "kernelspec": {
      "display_name": "Python 3",
      "language": "python",
      "name": "python3"
    },
    "language_info": {
      "codemirror_mode": {
        "name": "ipython",
        "version": 3
      },
      "file_extension": ".py",
      "mimetype": "text/x-python",
      "name": "python",
      "nbconvert_exporter": "python",
      "pygments_lexer": "ipython3",
      "version": "3.9.16"
    }
  },
  "nbformat": 4,
  "nbformat_minor": 0
}
